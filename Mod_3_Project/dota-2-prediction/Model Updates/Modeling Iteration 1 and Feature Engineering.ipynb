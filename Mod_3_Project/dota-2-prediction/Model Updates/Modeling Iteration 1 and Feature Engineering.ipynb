{
 "cells": [
  {
   "cell_type": "code",
   "execution_count": 2,
   "metadata": {},
   "outputs": [],
   "source": [
    "#Libariries for Data Analysis\n",
    "import pandas as pd\n",
    "import numpy as np\n",
    "import seaborn as sns\n",
    "import matplotlib.pyplot as plt\n",
    "import math\n",
    "\n",
    "#Libraries for ML\n",
    "from sklearn.preprocessing import StandardScaler\n",
    "\n",
    "from sklearn.linear_model import LogisticRegression\n",
    "from sklearn.neighbors import KNeighborsClassifier\n",
    "from sklearn.tree import DecisionTreeClassifier\n",
    "from sklearn.ensemble import BaggingClassifier, RandomForestClassifier\n",
    "from xgboost import XGBClassifier\n",
    "\n",
    "from sklearn.metrics import precision_score, recall_score, accuracy_score, f1_score, confusion_matrix\n",
    "from sklearn.model_selection import train_test_split, GridSearchCV\n",
    "\n",
    "#To make the cells look cleaner\n",
    "import warnings\n",
    "import os\n",
    "os.environ['KMP_DUPLICATE_LIB_OK']='True'"
   ]
  },
  {
   "cell_type": "code",
   "execution_count": 3,
   "metadata": {},
   "outputs": [],
   "source": [
    "df = pd.read_csv('Cleaned Training.csv', index_col = 'match_id')\n",
    "df2 = pd.read_csv('Cleaned Testing.csv', index_col = 'match_id')"
   ]
  },
  {
   "cell_type": "code",
   "execution_count": 4,
   "metadata": {},
   "outputs": [
    {
     "data": {
      "text/html": [
       "<div>\n",
       "<style scoped>\n",
       "    .dataframe tbody tr th:only-of-type {\n",
       "        vertical-align: middle;\n",
       "    }\n",
       "\n",
       "    .dataframe tbody tr th {\n",
       "        vertical-align: top;\n",
       "    }\n",
       "\n",
       "    .dataframe thead th {\n",
       "        text-align: right;\n",
       "    }\n",
       "</style>\n",
       "<table border=\"1\" class=\"dataframe\">\n",
       "  <thead>\n",
       "    <tr style=\"text-align: right;\">\n",
       "      <th></th>\n",
       "      <th>r1_hero</th>\n",
       "      <th>r1_items</th>\n",
       "      <th>r2_hero</th>\n",
       "      <th>r2_items</th>\n",
       "      <th>r3_hero</th>\n",
       "      <th>r3_items</th>\n",
       "      <th>r4_hero</th>\n",
       "      <th>r4_items</th>\n",
       "      <th>r5_hero</th>\n",
       "      <th>r5_items</th>\n",
       "      <th>...</th>\n",
       "      <th>dire_first_ward_time</th>\n",
       "      <th>radiant_win</th>\n",
       "      <th>Radiant_Total_xp</th>\n",
       "      <th>Dire_Total_xp</th>\n",
       "      <th>Radiant_Total_gold</th>\n",
       "      <th>Dire_Total_gold</th>\n",
       "      <th>Radiant_Total_lh</th>\n",
       "      <th>Dire_Total_lh</th>\n",
       "      <th>Radiant_Total_kills</th>\n",
       "      <th>Dire_Total_kills</th>\n",
       "    </tr>\n",
       "    <tr>\n",
       "      <th>match_id</th>\n",
       "      <th></th>\n",
       "      <th></th>\n",
       "      <th></th>\n",
       "      <th></th>\n",
       "      <th></th>\n",
       "      <th></th>\n",
       "      <th></th>\n",
       "      <th></th>\n",
       "      <th></th>\n",
       "      <th></th>\n",
       "      <th></th>\n",
       "      <th></th>\n",
       "      <th></th>\n",
       "      <th></th>\n",
       "      <th></th>\n",
       "      <th></th>\n",
       "      <th></th>\n",
       "      <th></th>\n",
       "      <th></th>\n",
       "      <th></th>\n",
       "      <th></th>\n",
       "    </tr>\n",
       "  </thead>\n",
       "  <tbody>\n",
       "    <tr>\n",
       "      <th>1</th>\n",
       "      <td>44</td>\n",
       "      <td>7</td>\n",
       "      <td>97</td>\n",
       "      <td>6</td>\n",
       "      <td>29</td>\n",
       "      <td>9</td>\n",
       "      <td>85</td>\n",
       "      <td>8</td>\n",
       "      <td>40</td>\n",
       "      <td>7</td>\n",
       "      <td>...</td>\n",
       "      <td>0.0</td>\n",
       "      <td>1</td>\n",
       "      <td>5497</td>\n",
       "      <td>6419</td>\n",
       "      <td>4615</td>\n",
       "      <td>4348</td>\n",
       "      <td>46</td>\n",
       "      <td>52</td>\n",
       "      <td>0</td>\n",
       "      <td>0</td>\n",
       "    </tr>\n",
       "    <tr>\n",
       "      <th>2</th>\n",
       "      <td>77</td>\n",
       "      <td>6</td>\n",
       "      <td>47</td>\n",
       "      <td>15</td>\n",
       "      <td>68</td>\n",
       "      <td>9</td>\n",
       "      <td>20</td>\n",
       "      <td>7</td>\n",
       "      <td>51</td>\n",
       "      <td>7</td>\n",
       "      <td>...</td>\n",
       "      <td>-9.0</td>\n",
       "      <td>0</td>\n",
       "      <td>5820</td>\n",
       "      <td>5115</td>\n",
       "      <td>6021</td>\n",
       "      <td>3989</td>\n",
       "      <td>61</td>\n",
       "      <td>30</td>\n",
       "      <td>2</td>\n",
       "      <td>0</td>\n",
       "    </tr>\n",
       "    <tr>\n",
       "      <th>3</th>\n",
       "      <td>66</td>\n",
       "      <td>7</td>\n",
       "      <td>22</td>\n",
       "      <td>8</td>\n",
       "      <td>76</td>\n",
       "      <td>6</td>\n",
       "      <td>23</td>\n",
       "      <td>6</td>\n",
       "      <td>87</td>\n",
       "      <td>7</td>\n",
       "      <td>...</td>\n",
       "      <td>18.0</td>\n",
       "      <td>1</td>\n",
       "      <td>8085</td>\n",
       "      <td>6007</td>\n",
       "      <td>6491</td>\n",
       "      <td>5096</td>\n",
       "      <td>75</td>\n",
       "      <td>59</td>\n",
       "      <td>2</td>\n",
       "      <td>1</td>\n",
       "    </tr>\n",
       "    <tr>\n",
       "      <th>4</th>\n",
       "      <td>5</td>\n",
       "      <td>10</td>\n",
       "      <td>53</td>\n",
       "      <td>4</td>\n",
       "      <td>1</td>\n",
       "      <td>7</td>\n",
       "      <td>21</td>\n",
       "      <td>9</td>\n",
       "      <td>11</td>\n",
       "      <td>4</td>\n",
       "      <td>...</td>\n",
       "      <td>0.0</td>\n",
       "      <td>0</td>\n",
       "      <td>7756</td>\n",
       "      <td>5937</td>\n",
       "      <td>6436</td>\n",
       "      <td>4907</td>\n",
       "      <td>73</td>\n",
       "      <td>48</td>\n",
       "      <td>2</td>\n",
       "      <td>1</td>\n",
       "    </tr>\n",
       "    <tr>\n",
       "      <th>5</th>\n",
       "      <td>102</td>\n",
       "      <td>6</td>\n",
       "      <td>98</td>\n",
       "      <td>9</td>\n",
       "      <td>75</td>\n",
       "      <td>5</td>\n",
       "      <td>21</td>\n",
       "      <td>2</td>\n",
       "      <td>74</td>\n",
       "      <td>6</td>\n",
       "      <td>...</td>\n",
       "      <td>0.0</td>\n",
       "      <td>0</td>\n",
       "      <td>5399</td>\n",
       "      <td>5931</td>\n",
       "      <td>5143</td>\n",
       "      <td>5471</td>\n",
       "      <td>44</td>\n",
       "      <td>42</td>\n",
       "      <td>1</td>\n",
       "      <td>2</td>\n",
       "    </tr>\n",
       "  </tbody>\n",
       "</table>\n",
       "<p>5 rows × 49 columns</p>\n",
       "</div>"
      ],
      "text/plain": [
       "          r1_hero  r1_items  r2_hero  r2_items  r3_hero  r3_items  r4_hero  \\\n",
       "match_id                                                                     \n",
       "1              44         7       97         6       29         9       85   \n",
       "2              77         6       47        15       68         9       20   \n",
       "3              66         7       22         8       76         6       23   \n",
       "4               5        10       53         4        1         7       21   \n",
       "5             102         6       98         9       75         5       21   \n",
       "\n",
       "          r4_items  r5_hero  r5_items        ...         dire_first_ward_time  \\\n",
       "match_id                                     ...                                \n",
       "1                8       40         7        ...                          0.0   \n",
       "2                7       51         7        ...                         -9.0   \n",
       "3                6       87         7        ...                         18.0   \n",
       "4                9       11         4        ...                          0.0   \n",
       "5                2       74         6        ...                          0.0   \n",
       "\n",
       "          radiant_win  Radiant_Total_xp  Dire_Total_xp  Radiant_Total_gold  \\\n",
       "match_id                                                                     \n",
       "1                   1              5497           6419                4615   \n",
       "2                   0              5820           5115                6021   \n",
       "3                   1              8085           6007                6491   \n",
       "4                   0              7756           5937                6436   \n",
       "5                   0              5399           5931                5143   \n",
       "\n",
       "          Dire_Total_gold  Radiant_Total_lh  Dire_Total_lh  \\\n",
       "match_id                                                     \n",
       "1                    4348                46             52   \n",
       "2                    3989                61             30   \n",
       "3                    5096                75             59   \n",
       "4                    4907                73             48   \n",
       "5                    5471                44             42   \n",
       "\n",
       "          Radiant_Total_kills  Dire_Total_kills  \n",
       "match_id                                         \n",
       "1                           0                 0  \n",
       "2                           2                 0  \n",
       "3                           2                 1  \n",
       "4                           2                 1  \n",
       "5                           1                 2  \n",
       "\n",
       "[5 rows x 49 columns]"
      ]
     },
     "execution_count": 4,
     "metadata": {},
     "output_type": "execute_result"
    }
   ],
   "source": [
    "df.head()"
   ]
  },
  {
   "cell_type": "markdown",
   "metadata": {},
   "source": [
    "## I have a hypothesis that the models are reading the Hero and Item columns as continuous data rather than categorical. By turning these columns into dummy data, I expect some of my models to improve their performance by a slight amount. Am also going to change some of the features I engineers in my Dataframe Cleaning and EDA notebook to be more specific to Radiant"
   ]
  },
  {
   "cell_type": "markdown",
   "metadata": {},
   "source": [
    "### Feature Engineering - Determining whether Radiant Winning or not in early game"
   ]
  },
  {
   "cell_type": "code",
   "execution_count": 5,
   "metadata": {},
   "outputs": [],
   "source": [
    "df['Radiant_Dire_xp_dif'] = df.Radiant_Total_xp - df.Dire_Total_xp\n",
    "df['Radiant_Dire_gold_dif'] = df.Radiant_Total_gold - df.Dire_Total_gold\n",
    "df['Radiant_Dire_lh_dif'] = df.Radiant_Total_lh - df.Dire_Total_lh\n",
    "df['Radiant_Dire_kill_dif'] = df.Radiant_Total_kills - df.Dire_Total_kills\n",
    "df['Radiant_BottleTime_dif'] = df.radiant_bottle_time - df.dire_bottle_time\n",
    "df['Radiant_CourierTime_dif'] = abs(df.radiant_courier_time) - abs(df.dire_courier_time)\n",
    "df['Radiant_FlyingCourier_dif'] = df.radiant_flying_courier_time - df.dire_flying_courier_time\n",
    "df['Radiant_boots_count_dif'] = df.radiant_boots_count - df.dire_boots_count\n",
    "df['Radiant_tp_dif'] = df.radiant_tpscroll_count - df.dire_tpscroll_count\n",
    "df['Radiant_ward_observer_dif'] = df.radiant_ward_observer_count - df.dire_ward_observer_count\n",
    "df['Radiant_ward_sentry_dif'] = df.radiant_ward_sentry_count - df.dire_ward_sentry_count"
   ]
  },
  {
   "cell_type": "code",
   "execution_count": 6,
   "metadata": {},
   "outputs": [],
   "source": [
    "df.drop(columns=['Radiant_Total_xp', 'Radiant_Total_gold', 'Radiant_Total_lh', 'Radiant_Total_kills',\n",
    "                'Dire_Total_xp', 'Dire_Total_gold', 'Dire_Total_lh', 'Dire_Total_kills',\n",
    "                'radiant_bottle_time', 'dire_bottle_time', 'radiant_courier_time', 'dire_courier_time', \n",
    "                'radiant_flying_courier_time', 'dire_flying_courier_time',\n",
    "                'radiant_tpscroll_count', 'radiant_boots_count', 'radiant_ward_observer_count', \n",
    "                 'radiant_ward_sentry_count', 'radiant_first_ward_time', 'dire_bottle_time', \n",
    "                 'dire_courier_time','dire_flying_courier_time', 'dire_tpscroll_count', 'dire_boots_count',\n",
    "                 'dire_ward_observer_count', 'dire_ward_sentry_count'], inplace=True)"
   ]
  },
  {
   "cell_type": "code",
   "execution_count": 7,
   "metadata": {},
   "outputs": [
    {
     "data": {
      "text/html": [
       "<div>\n",
       "<style scoped>\n",
       "    .dataframe tbody tr th:only-of-type {\n",
       "        vertical-align: middle;\n",
       "    }\n",
       "\n",
       "    .dataframe tbody tr th {\n",
       "        vertical-align: top;\n",
       "    }\n",
       "\n",
       "    .dataframe thead th {\n",
       "        text-align: right;\n",
       "    }\n",
       "</style>\n",
       "<table border=\"1\" class=\"dataframe\">\n",
       "  <thead>\n",
       "    <tr style=\"text-align: right;\">\n",
       "      <th></th>\n",
       "      <th>r1_hero</th>\n",
       "      <th>r1_items</th>\n",
       "      <th>r2_hero</th>\n",
       "      <th>r2_items</th>\n",
       "      <th>r3_hero</th>\n",
       "      <th>r3_items</th>\n",
       "      <th>r4_hero</th>\n",
       "      <th>r4_items</th>\n",
       "      <th>r5_hero</th>\n",
       "      <th>r5_items</th>\n",
       "      <th>...</th>\n",
       "      <th>Radiant_Dire_gold_dif</th>\n",
       "      <th>Radiant_Dire_lh_dif</th>\n",
       "      <th>Radiant_Dire_kill_dif</th>\n",
       "      <th>Radiant_BottleTime_dif</th>\n",
       "      <th>Radiant_CourierTime_dif</th>\n",
       "      <th>Radiant_FlyingCourier_dif</th>\n",
       "      <th>Radiant_boots_count_dif</th>\n",
       "      <th>Radiant_tp_dif</th>\n",
       "      <th>Radiant_ward_observer_dif</th>\n",
       "      <th>Radiant_ward_sentry_dif</th>\n",
       "    </tr>\n",
       "    <tr>\n",
       "      <th>match_id</th>\n",
       "      <th></th>\n",
       "      <th></th>\n",
       "      <th></th>\n",
       "      <th></th>\n",
       "      <th></th>\n",
       "      <th></th>\n",
       "      <th></th>\n",
       "      <th></th>\n",
       "      <th></th>\n",
       "      <th></th>\n",
       "      <th></th>\n",
       "      <th></th>\n",
       "      <th></th>\n",
       "      <th></th>\n",
       "      <th></th>\n",
       "      <th></th>\n",
       "      <th></th>\n",
       "      <th></th>\n",
       "      <th></th>\n",
       "      <th></th>\n",
       "      <th></th>\n",
       "    </tr>\n",
       "  </thead>\n",
       "  <tbody>\n",
       "    <tr>\n",
       "      <th>1</th>\n",
       "      <td>44</td>\n",
       "      <td>7</td>\n",
       "      <td>97</td>\n",
       "      <td>6</td>\n",
       "      <td>29</td>\n",
       "      <td>9</td>\n",
       "      <td>85</td>\n",
       "      <td>8</td>\n",
       "      <td>40</td>\n",
       "      <td>7</td>\n",
       "      <td>...</td>\n",
       "      <td>267</td>\n",
       "      <td>-6</td>\n",
       "      <td>0</td>\n",
       "      <td>-23.0</td>\n",
       "      <td>-9.0</td>\n",
       "      <td>0.0</td>\n",
       "      <td>2</td>\n",
       "      <td>6</td>\n",
       "      <td>1</td>\n",
       "      <td>0</td>\n",
       "    </tr>\n",
       "    <tr>\n",
       "      <th>2</th>\n",
       "      <td>77</td>\n",
       "      <td>6</td>\n",
       "      <td>47</td>\n",
       "      <td>15</td>\n",
       "      <td>68</td>\n",
       "      <td>9</td>\n",
       "      <td>20</td>\n",
       "      <td>7</td>\n",
       "      <td>51</td>\n",
       "      <td>7</td>\n",
       "      <td>...</td>\n",
       "      <td>2032</td>\n",
       "      <td>31</td>\n",
       "      <td>2</td>\n",
       "      <td>0.0</td>\n",
       "      <td>-17.0</td>\n",
       "      <td>-33.0</td>\n",
       "      <td>2</td>\n",
       "      <td>-2</td>\n",
       "      <td>-1</td>\n",
       "      <td>-2</td>\n",
       "    </tr>\n",
       "    <tr>\n",
       "      <th>3</th>\n",
       "      <td>66</td>\n",
       "      <td>7</td>\n",
       "      <td>22</td>\n",
       "      <td>8</td>\n",
       "      <td>76</td>\n",
       "      <td>6</td>\n",
       "      <td>23</td>\n",
       "      <td>6</td>\n",
       "      <td>87</td>\n",
       "      <td>7</td>\n",
       "      <td>...</td>\n",
       "      <td>1395</td>\n",
       "      <td>16</td>\n",
       "      <td>1</td>\n",
       "      <td>43.0</td>\n",
       "      <td>34.0</td>\n",
       "      <td>-283.0</td>\n",
       "      <td>2</td>\n",
       "      <td>-4</td>\n",
       "      <td>0</td>\n",
       "      <td>0</td>\n",
       "    </tr>\n",
       "    <tr>\n",
       "      <th>4</th>\n",
       "      <td>5</td>\n",
       "      <td>10</td>\n",
       "      <td>53</td>\n",
       "      <td>4</td>\n",
       "      <td>1</td>\n",
       "      <td>7</td>\n",
       "      <td>21</td>\n",
       "      <td>9</td>\n",
       "      <td>11</td>\n",
       "      <td>4</td>\n",
       "      <td>...</td>\n",
       "      <td>1529</td>\n",
       "      <td>25</td>\n",
       "      <td>1</td>\n",
       "      <td>160.0</td>\n",
       "      <td>-20.0</td>\n",
       "      <td>216.0</td>\n",
       "      <td>1</td>\n",
       "      <td>-3</td>\n",
       "      <td>2</td>\n",
       "      <td>0</td>\n",
       "    </tr>\n",
       "    <tr>\n",
       "      <th>5</th>\n",
       "      <td>102</td>\n",
       "      <td>6</td>\n",
       "      <td>98</td>\n",
       "      <td>9</td>\n",
       "      <td>75</td>\n",
       "      <td>5</td>\n",
       "      <td>21</td>\n",
       "      <td>2</td>\n",
       "      <td>74</td>\n",
       "      <td>6</td>\n",
       "      <td>...</td>\n",
       "      <td>-328</td>\n",
       "      <td>2</td>\n",
       "      <td>-1</td>\n",
       "      <td>20.0</td>\n",
       "      <td>-44.0</td>\n",
       "      <td>0.0</td>\n",
       "      <td>-1</td>\n",
       "      <td>1</td>\n",
       "      <td>-1</td>\n",
       "      <td>0</td>\n",
       "    </tr>\n",
       "  </tbody>\n",
       "</table>\n",
       "<p>5 rows × 37 columns</p>\n",
       "</div>"
      ],
      "text/plain": [
       "          r1_hero  r1_items  r2_hero  r2_items  r3_hero  r3_items  r4_hero  \\\n",
       "match_id                                                                     \n",
       "1              44         7       97         6       29         9       85   \n",
       "2              77         6       47        15       68         9       20   \n",
       "3              66         7       22         8       76         6       23   \n",
       "4               5        10       53         4        1         7       21   \n",
       "5             102         6       98         9       75         5       21   \n",
       "\n",
       "          r4_items  r5_hero  r5_items           ...             \\\n",
       "match_id                                        ...              \n",
       "1                8       40         7           ...              \n",
       "2                7       51         7           ...              \n",
       "3                6       87         7           ...              \n",
       "4                9       11         4           ...              \n",
       "5                2       74         6           ...              \n",
       "\n",
       "          Radiant_Dire_gold_dif  Radiant_Dire_lh_dif  Radiant_Dire_kill_dif  \\\n",
       "match_id                                                                      \n",
       "1                           267                   -6                      0   \n",
       "2                          2032                   31                      2   \n",
       "3                          1395                   16                      1   \n",
       "4                          1529                   25                      1   \n",
       "5                          -328                    2                     -1   \n",
       "\n",
       "          Radiant_BottleTime_dif  Radiant_CourierTime_dif  \\\n",
       "match_id                                                    \n",
       "1                          -23.0                     -9.0   \n",
       "2                            0.0                    -17.0   \n",
       "3                           43.0                     34.0   \n",
       "4                          160.0                    -20.0   \n",
       "5                           20.0                    -44.0   \n",
       "\n",
       "          Radiant_FlyingCourier_dif  Radiant_boots_count_dif  Radiant_tp_dif  \\\n",
       "match_id                                                                       \n",
       "1                               0.0                        2               6   \n",
       "2                             -33.0                        2              -2   \n",
       "3                            -283.0                        2              -4   \n",
       "4                             216.0                        1              -3   \n",
       "5                               0.0                       -1               1   \n",
       "\n",
       "          Radiant_ward_observer_dif  Radiant_ward_sentry_dif  \n",
       "match_id                                                      \n",
       "1                                 1                        0  \n",
       "2                                -1                       -2  \n",
       "3                                 0                        0  \n",
       "4                                 2                        0  \n",
       "5                                -1                        0  \n",
       "\n",
       "[5 rows x 37 columns]"
      ]
     },
     "execution_count": 7,
     "metadata": {},
     "output_type": "execute_result"
    }
   ],
   "source": [
    "df.head()"
   ]
  },
  {
   "cell_type": "markdown",
   "metadata": {},
   "source": [
    "## Feature Engineering -  Getting the winrates of the champions played by each team"
   ]
  },
  {
   "cell_type": "markdown",
   "metadata": {},
   "source": [
    "First I needed to stack the columns containing the champion IDs ontop of each other and determine whether they won or not. \n",
    "\n",
    "DF.Melt helped create the stacked dataframe.\n",
    "\n",
    "From there I created a dictionary containing the value counts of each unique champion ID and then made 2 more dictionaries looking at the champions Dire picked and won with and the champions Radiant picked and won with. I then divided the sum of these 2 values by the total value counts to get the win % and added these values to the dataframe"
   ]
  },
  {
   "cell_type": "code",
   "execution_count": 8,
   "metadata": {},
   "outputs": [],
   "source": [
    "win_rate = df.melt('radiant_win', value_vars=['r1_hero', 'r2_hero', 'r3_hero', 'r5_hero', \n",
    "      'd1_hero', 'd2_hero', 'd3_hero', 'd4_hero', 'd5_hero'])"
   ]
  },
  {
   "cell_type": "code",
   "execution_count": 9,
   "metadata": {},
   "outputs": [
    {
     "data": {
      "text/html": [
       "<div>\n",
       "<style scoped>\n",
       "    .dataframe tbody tr th:only-of-type {\n",
       "        vertical-align: middle;\n",
       "    }\n",
       "\n",
       "    .dataframe tbody tr th {\n",
       "        vertical-align: top;\n",
       "    }\n",
       "\n",
       "    .dataframe thead th {\n",
       "        text-align: right;\n",
       "    }\n",
       "</style>\n",
       "<table border=\"1\" class=\"dataframe\">\n",
       "  <thead>\n",
       "    <tr style=\"text-align: right;\">\n",
       "      <th></th>\n",
       "      <th>radiant_win</th>\n",
       "      <th>variable</th>\n",
       "      <th>value</th>\n",
       "    </tr>\n",
       "  </thead>\n",
       "  <tbody>\n",
       "    <tr>\n",
       "      <th>0</th>\n",
       "      <td>1</td>\n",
       "      <td>r1_hero</td>\n",
       "      <td>44</td>\n",
       "    </tr>\n",
       "    <tr>\n",
       "      <th>1</th>\n",
       "      <td>0</td>\n",
       "      <td>r1_hero</td>\n",
       "      <td>77</td>\n",
       "    </tr>\n",
       "    <tr>\n",
       "      <th>2</th>\n",
       "      <td>1</td>\n",
       "      <td>r1_hero</td>\n",
       "      <td>66</td>\n",
       "    </tr>\n",
       "    <tr>\n",
       "      <th>3</th>\n",
       "      <td>0</td>\n",
       "      <td>r1_hero</td>\n",
       "      <td>5</td>\n",
       "    </tr>\n",
       "    <tr>\n",
       "      <th>4</th>\n",
       "      <td>0</td>\n",
       "      <td>r1_hero</td>\n",
       "      <td>102</td>\n",
       "    </tr>\n",
       "    <tr>\n",
       "      <th>5</th>\n",
       "      <td>1</td>\n",
       "      <td>r1_hero</td>\n",
       "      <td>26</td>\n",
       "    </tr>\n",
       "    <tr>\n",
       "      <th>6</th>\n",
       "      <td>0</td>\n",
       "      <td>r1_hero</td>\n",
       "      <td>28</td>\n",
       "    </tr>\n",
       "    <tr>\n",
       "      <th>7</th>\n",
       "      <td>1</td>\n",
       "      <td>r1_hero</td>\n",
       "      <td>85</td>\n",
       "    </tr>\n",
       "    <tr>\n",
       "      <th>8</th>\n",
       "      <td>1</td>\n",
       "      <td>r1_hero</td>\n",
       "      <td>13</td>\n",
       "    </tr>\n",
       "    <tr>\n",
       "      <th>9</th>\n",
       "      <td>0</td>\n",
       "      <td>r1_hero</td>\n",
       "      <td>44</td>\n",
       "    </tr>\n",
       "  </tbody>\n",
       "</table>\n",
       "</div>"
      ],
      "text/plain": [
       "   radiant_win variable  value\n",
       "0            1  r1_hero     44\n",
       "1            0  r1_hero     77\n",
       "2            1  r1_hero     66\n",
       "3            0  r1_hero      5\n",
       "4            0  r1_hero    102\n",
       "5            1  r1_hero     26\n",
       "6            0  r1_hero     28\n",
       "7            1  r1_hero     85\n",
       "8            1  r1_hero     13\n",
       "9            0  r1_hero     44"
      ]
     },
     "execution_count": 9,
     "metadata": {},
     "output_type": "execute_result"
    }
   ],
   "source": [
    "win_rate.head(10)"
   ]
  },
  {
   "cell_type": "code",
   "execution_count": 9,
   "metadata": {},
   "outputs": [],
   "source": [
    "c = dict(win_rate.value.value_counts())"
   ]
  },
  {
   "cell_type": "code",
   "execution_count": 10,
   "metadata": {},
   "outputs": [],
   "source": [
    "dire_winrate = dict(win_rate[((win_rate['variable'] == 'd1_hero') | (win_rate['variable'] == 'd2_hero') |\n",
    "        (win_rate['variable'] == 'd3_hero') | (win_rate['variable'] == 'd4_hero')\n",
    "        | (win_rate['variable'] == 'd5_hero')) & (win_rate['radiant_win'] == 0) ].value.value_counts())"
   ]
  },
  {
   "cell_type": "code",
   "execution_count": 11,
   "metadata": {},
   "outputs": [],
   "source": [
    "radiant_winrate = dict(win_rate[((win_rate['variable'] == 'r1_hero') | (win_rate['variable'] == 'r2_hero') |\n",
    "        (win_rate['variable'] == 'r3_hero') | (win_rate['variable'] == 'r4_hero')\n",
    "        | (win_rate['variable'] == 'r5_hero')) & (win_rate['radiant_win'] == 1)].value.value_counts())"
   ]
  },
  {
   "cell_type": "code",
   "execution_count": 12,
   "metadata": {},
   "outputs": [],
   "source": [
    "total_wins = {}\n",
    "for key, value in dire_winrate.items():\n",
    "    for key1, value1 in radiant_winrate.items():\n",
    "        if key1 == key:\n",
    "            total_wins[key] = value + value1"
   ]
  },
  {
   "cell_type": "code",
   "execution_count": 13,
   "metadata": {},
   "outputs": [],
   "source": [
    "win_percent = {}\n",
    "for key, value in c.items():\n",
    "    for key1, value1 in total_wins.items():\n",
    "        if key1 == key:\n",
    "            win_percent[key] = value1 / value"
   ]
  },
  {
   "cell_type": "markdown",
   "metadata": {},
   "source": [
    "### For some reason a function did not support the following code so I had to manually do it for the 10 columns"
   ]
  },
  {
   "cell_type": "code",
   "execution_count": 14,
   "metadata": {},
   "outputs": [],
   "source": [
    "empty = []\n",
    "for nums in list(df['r1_hero']):\n",
    "    empty.append(win_percent[nums])"
   ]
  },
  {
   "cell_type": "code",
   "execution_count": 15,
   "metadata": {},
   "outputs": [],
   "source": [
    "df['r1_hero_winrate'] = empty"
   ]
  },
  {
   "cell_type": "code",
   "execution_count": 16,
   "metadata": {},
   "outputs": [],
   "source": [
    "empty = []\n",
    "for nums in list(df['r2_hero']):\n",
    "    empty.append(win_percent[nums])"
   ]
  },
  {
   "cell_type": "code",
   "execution_count": 17,
   "metadata": {},
   "outputs": [],
   "source": [
    "df['r2_hero_winrate'] = empty"
   ]
  },
  {
   "cell_type": "code",
   "execution_count": 18,
   "metadata": {},
   "outputs": [],
   "source": [
    "empty = []\n",
    "for nums in list(df['r3_hero']):\n",
    "    empty.append(win_percent[nums])"
   ]
  },
  {
   "cell_type": "code",
   "execution_count": 19,
   "metadata": {},
   "outputs": [],
   "source": [
    "df['r3_hero_winrate'] = empty"
   ]
  },
  {
   "cell_type": "code",
   "execution_count": 20,
   "metadata": {},
   "outputs": [],
   "source": [
    "empty = []\n",
    "for nums in list(df['r4_hero']):\n",
    "    empty.append(win_percent[nums])"
   ]
  },
  {
   "cell_type": "code",
   "execution_count": 21,
   "metadata": {},
   "outputs": [],
   "source": [
    "df['r4_hero_winrate'] = empty"
   ]
  },
  {
   "cell_type": "code",
   "execution_count": 22,
   "metadata": {},
   "outputs": [],
   "source": [
    "empty = []\n",
    "for nums in list(df['r5_hero']):\n",
    "    empty.append(win_percent[nums])"
   ]
  },
  {
   "cell_type": "code",
   "execution_count": 23,
   "metadata": {},
   "outputs": [],
   "source": [
    "df['r5_hero_winrate'] = empty"
   ]
  },
  {
   "cell_type": "code",
   "execution_count": 24,
   "metadata": {},
   "outputs": [],
   "source": [
    "empty = []\n",
    "for nums in list(df['d1_hero']):\n",
    "    empty.append(win_percent[nums])"
   ]
  },
  {
   "cell_type": "code",
   "execution_count": 25,
   "metadata": {},
   "outputs": [],
   "source": [
    "df['d1_hero_winrate'] = empty"
   ]
  },
  {
   "cell_type": "code",
   "execution_count": 26,
   "metadata": {},
   "outputs": [],
   "source": [
    "empty = []\n",
    "for nums in list(df['d2_hero']):\n",
    "    empty.append(win_percent[nums])"
   ]
  },
  {
   "cell_type": "code",
   "execution_count": 27,
   "metadata": {},
   "outputs": [],
   "source": [
    "df['d2_hero_winrate'] = empty"
   ]
  },
  {
   "cell_type": "code",
   "execution_count": 28,
   "metadata": {},
   "outputs": [],
   "source": [
    "empty = []\n",
    "for nums in list(df['d3_hero']):\n",
    "    empty.append(win_percent[nums])"
   ]
  },
  {
   "cell_type": "code",
   "execution_count": 29,
   "metadata": {},
   "outputs": [],
   "source": [
    "df['d3_hero_winrate'] = empty"
   ]
  },
  {
   "cell_type": "code",
   "execution_count": 30,
   "metadata": {},
   "outputs": [],
   "source": [
    "empty = []\n",
    "for nums in list(df['d4_hero']):\n",
    "    empty.append(win_percent[nums])"
   ]
  },
  {
   "cell_type": "code",
   "execution_count": 31,
   "metadata": {},
   "outputs": [],
   "source": [
    "df['d4_hero_winrate'] = empty"
   ]
  },
  {
   "cell_type": "code",
   "execution_count": 32,
   "metadata": {},
   "outputs": [],
   "source": [
    "empty = []\n",
    "for nums in list(df['d5_hero']):\n",
    "    empty.append(win_percent[nums])"
   ]
  },
  {
   "cell_type": "code",
   "execution_count": 33,
   "metadata": {},
   "outputs": [],
   "source": [
    "df['d5_hero_winrate'] = empty"
   ]
  },
  {
   "cell_type": "code",
   "execution_count": 34,
   "metadata": {},
   "outputs": [],
   "source": [
    "df['Radiant_Champion_Winpercent'] = df[['r1_hero_winrate', 'r2_hero_winrate',\n",
    "                                        'r3_hero_winrate', 'r4_hero_winrate', 'r5_hero_winrate']].mean(axis=1)"
   ]
  },
  {
   "cell_type": "code",
   "execution_count": 35,
   "metadata": {},
   "outputs": [],
   "source": [
    "df['Dire_Champion_Winpercent'] = df[['d1_hero_winrate', 'd2_hero_winrate',\n",
    "                                        'd3_hero_winrate', 'd4_hero_winrate', 'd5_hero_winrate']].mean(axis=1)"
   ]
  },
  {
   "cell_type": "code",
   "execution_count": 36,
   "metadata": {},
   "outputs": [],
   "source": [
    "df['Radiant_Dire_winrate_dif'] = df.Radiant_Champion_Winpercent - df.Dire_Champion_Winpercent"
   ]
  },
  {
   "cell_type": "code",
   "execution_count": 37,
   "metadata": {},
   "outputs": [
    {
     "data": {
      "text/html": [
       "<div>\n",
       "<style scoped>\n",
       "    .dataframe tbody tr th:only-of-type {\n",
       "        vertical-align: middle;\n",
       "    }\n",
       "\n",
       "    .dataframe tbody tr th {\n",
       "        vertical-align: top;\n",
       "    }\n",
       "\n",
       "    .dataframe thead th {\n",
       "        text-align: right;\n",
       "    }\n",
       "</style>\n",
       "<table border=\"1\" class=\"dataframe\">\n",
       "  <thead>\n",
       "    <tr style=\"text-align: right;\">\n",
       "      <th></th>\n",
       "      <th>r1_hero</th>\n",
       "      <th>r1_items</th>\n",
       "      <th>r2_hero</th>\n",
       "      <th>r2_items</th>\n",
       "      <th>r3_hero</th>\n",
       "      <th>r3_items</th>\n",
       "      <th>r4_hero</th>\n",
       "      <th>r4_items</th>\n",
       "      <th>r5_hero</th>\n",
       "      <th>r5_items</th>\n",
       "      <th>...</th>\n",
       "      <th>r4_hero_winrate</th>\n",
       "      <th>r5_hero_winrate</th>\n",
       "      <th>d1_hero_winrate</th>\n",
       "      <th>d2_hero_winrate</th>\n",
       "      <th>d3_hero_winrate</th>\n",
       "      <th>d4_hero_winrate</th>\n",
       "      <th>d5_hero_winrate</th>\n",
       "      <th>Radiant_Champion_Winpercent</th>\n",
       "      <th>Dire_Champion_Winpercent</th>\n",
       "      <th>Radiant_Dire_winrate_dif</th>\n",
       "    </tr>\n",
       "    <tr>\n",
       "      <th>match_id</th>\n",
       "      <th></th>\n",
       "      <th></th>\n",
       "      <th></th>\n",
       "      <th></th>\n",
       "      <th></th>\n",
       "      <th></th>\n",
       "      <th></th>\n",
       "      <th></th>\n",
       "      <th></th>\n",
       "      <th></th>\n",
       "      <th></th>\n",
       "      <th></th>\n",
       "      <th></th>\n",
       "      <th></th>\n",
       "      <th></th>\n",
       "      <th></th>\n",
       "      <th></th>\n",
       "      <th></th>\n",
       "      <th></th>\n",
       "      <th></th>\n",
       "      <th></th>\n",
       "    </tr>\n",
       "  </thead>\n",
       "  <tbody>\n",
       "    <tr>\n",
       "      <th>1</th>\n",
       "      <td>44</td>\n",
       "      <td>7</td>\n",
       "      <td>97</td>\n",
       "      <td>6</td>\n",
       "      <td>29</td>\n",
       "      <td>9</td>\n",
       "      <td>85</td>\n",
       "      <td>8</td>\n",
       "      <td>40</td>\n",
       "      <td>7</td>\n",
       "      <td>...</td>\n",
       "      <td>0.557437</td>\n",
       "      <td>0.529898</td>\n",
       "      <td>0.511749</td>\n",
       "      <td>0.446145</td>\n",
       "      <td>0.491889</td>\n",
       "      <td>0.522228</td>\n",
       "      <td>0.527342</td>\n",
       "      <td>0.513055</td>\n",
       "      <td>0.499871</td>\n",
       "      <td>0.013184</td>\n",
       "    </tr>\n",
       "    <tr>\n",
       "      <th>2</th>\n",
       "      <td>77</td>\n",
       "      <td>6</td>\n",
       "      <td>47</td>\n",
       "      <td>15</td>\n",
       "      <td>68</td>\n",
       "      <td>9</td>\n",
       "      <td>20</td>\n",
       "      <td>7</td>\n",
       "      <td>51</td>\n",
       "      <td>7</td>\n",
       "      <td>...</td>\n",
       "      <td>0.537753</td>\n",
       "      <td>0.486614</td>\n",
       "      <td>0.522199</td>\n",
       "      <td>0.595278</td>\n",
       "      <td>0.504809</td>\n",
       "      <td>0.509445</td>\n",
       "      <td>0.521700</td>\n",
       "      <td>0.505887</td>\n",
       "      <td>0.530686</td>\n",
       "      <td>-0.024799</td>\n",
       "    </tr>\n",
       "    <tr>\n",
       "      <th>3</th>\n",
       "      <td>66</td>\n",
       "      <td>7</td>\n",
       "      <td>22</td>\n",
       "      <td>8</td>\n",
       "      <td>76</td>\n",
       "      <td>6</td>\n",
       "      <td>23</td>\n",
       "      <td>6</td>\n",
       "      <td>87</td>\n",
       "      <td>7</td>\n",
       "      <td>...</td>\n",
       "      <td>0.458889</td>\n",
       "      <td>0.522199</td>\n",
       "      <td>0.466212</td>\n",
       "      <td>0.567778</td>\n",
       "      <td>0.509445</td>\n",
       "      <td>0.485014</td>\n",
       "      <td>0.485962</td>\n",
       "      <td>0.492870</td>\n",
       "      <td>0.502882</td>\n",
       "      <td>-0.010013</td>\n",
       "    </tr>\n",
       "    <tr>\n",
       "      <th>4</th>\n",
       "      <td>5</td>\n",
       "      <td>10</td>\n",
       "      <td>53</td>\n",
       "      <td>4</td>\n",
       "      <td>1</td>\n",
       "      <td>7</td>\n",
       "      <td>21</td>\n",
       "      <td>9</td>\n",
       "      <td>11</td>\n",
       "      <td>4</td>\n",
       "      <td>...</td>\n",
       "      <td>0.488883</td>\n",
       "      <td>0.519837</td>\n",
       "      <td>0.476424</td>\n",
       "      <td>0.452859</td>\n",
       "      <td>0.586728</td>\n",
       "      <td>0.449113</td>\n",
       "      <td>0.545369</td>\n",
       "      <td>0.492141</td>\n",
       "      <td>0.502099</td>\n",
       "      <td>-0.009958</td>\n",
       "    </tr>\n",
       "    <tr>\n",
       "      <th>5</th>\n",
       "      <td>102</td>\n",
       "      <td>6</td>\n",
       "      <td>98</td>\n",
       "      <td>9</td>\n",
       "      <td>75</td>\n",
       "      <td>5</td>\n",
       "      <td>21</td>\n",
       "      <td>2</td>\n",
       "      <td>74</td>\n",
       "      <td>6</td>\n",
       "      <td>...</td>\n",
       "      <td>0.488883</td>\n",
       "      <td>0.486933</td>\n",
       "      <td>0.472602</td>\n",
       "      <td>0.522775</td>\n",
       "      <td>0.567778</td>\n",
       "      <td>0.557437</td>\n",
       "      <td>0.464222</td>\n",
       "      <td>0.509374</td>\n",
       "      <td>0.516963</td>\n",
       "      <td>-0.007589</td>\n",
       "    </tr>\n",
       "  </tbody>\n",
       "</table>\n",
       "<p>5 rows × 50 columns</p>\n",
       "</div>"
      ],
      "text/plain": [
       "          r1_hero  r1_items  r2_hero  r2_items  r3_hero  r3_items  r4_hero  \\\n",
       "match_id                                                                     \n",
       "1              44         7       97         6       29         9       85   \n",
       "2              77         6       47        15       68         9       20   \n",
       "3              66         7       22         8       76         6       23   \n",
       "4               5        10       53         4        1         7       21   \n",
       "5             102         6       98         9       75         5       21   \n",
       "\n",
       "          r4_items  r5_hero  r5_items            ...             \\\n",
       "match_id                                         ...              \n",
       "1                8       40         7            ...              \n",
       "2                7       51         7            ...              \n",
       "3                6       87         7            ...              \n",
       "4                9       11         4            ...              \n",
       "5                2       74         6            ...              \n",
       "\n",
       "          r4_hero_winrate  r5_hero_winrate  d1_hero_winrate  d2_hero_winrate  \\\n",
       "match_id                                                                       \n",
       "1                0.557437         0.529898         0.511749         0.446145   \n",
       "2                0.537753         0.486614         0.522199         0.595278   \n",
       "3                0.458889         0.522199         0.466212         0.567778   \n",
       "4                0.488883         0.519837         0.476424         0.452859   \n",
       "5                0.488883         0.486933         0.472602         0.522775   \n",
       "\n",
       "          d3_hero_winrate  d4_hero_winrate  d5_hero_winrate  \\\n",
       "match_id                                                      \n",
       "1                0.491889         0.522228         0.527342   \n",
       "2                0.504809         0.509445         0.521700   \n",
       "3                0.509445         0.485014         0.485962   \n",
       "4                0.586728         0.449113         0.545369   \n",
       "5                0.567778         0.557437         0.464222   \n",
       "\n",
       "          Radiant_Champion_Winpercent  Dire_Champion_Winpercent  \\\n",
       "match_id                                                          \n",
       "1                            0.513055                  0.499871   \n",
       "2                            0.505887                  0.530686   \n",
       "3                            0.492870                  0.502882   \n",
       "4                            0.492141                  0.502099   \n",
       "5                            0.509374                  0.516963   \n",
       "\n",
       "          Radiant_Dire_winrate_dif  \n",
       "match_id                            \n",
       "1                         0.013184  \n",
       "2                        -0.024799  \n",
       "3                        -0.010013  \n",
       "4                        -0.009958  \n",
       "5                        -0.007589  \n",
       "\n",
       "[5 rows x 50 columns]"
      ]
     },
     "execution_count": 37,
     "metadata": {},
     "output_type": "execute_result"
    }
   ],
   "source": [
    "df.head()"
   ]
  },
  {
   "cell_type": "markdown",
   "metadata": {},
   "source": [
    "### Feature Engineering - Dummy Variables for Heros and Items"
   ]
  },
  {
   "cell_type": "code",
   "execution_count": 38,
   "metadata": {},
   "outputs": [],
   "source": [
    "rad_heros1 = pd.get_dummies(df['r1_hero'], prefix = \"Radiant_Hero1\", drop_first=True)\n",
    "rad_heros2 = pd.get_dummies(df['r2_hero'], prefix = \"Radiant_Hero2\", drop_first=True)\n",
    "rad_heros3 = pd.get_dummies(df['r3_hero'], prefix = \"Radiant_Hero3\", drop_first=True)\n",
    "rad_heros4 = pd.get_dummies(df['r4_hero'], prefix = \"Radiant_Hero4\", drop_first=True)\n",
    "rad_heros5 = pd.get_dummies(df['r5_hero'], prefix = \"Radiant_Hero5\", drop_first=True)"
   ]
  },
  {
   "cell_type": "code",
   "execution_count": 39,
   "metadata": {},
   "outputs": [],
   "source": [
    "rad_items1 = pd.get_dummies(df['r1_items'], prefix = \"Radiant_Items1\", drop_first=True)\n",
    "rad_items2 = pd.get_dummies(df['r2_items'], prefix = \"Radiant_Items2\", drop_first=True)\n",
    "rad_items3 = pd.get_dummies(df['r3_items'], prefix = \"Radiant_Items3\", drop_first=True)\n",
    "rad_items4 = pd.get_dummies(df['r4_items'], prefix = \"Radiant_Items4\", drop_first=True)\n",
    "rad_items5 = pd.get_dummies(df['r5_items'], prefix = \"Radiant_Items5\", drop_first=True)"
   ]
  },
  {
   "cell_type": "code",
   "execution_count": 40,
   "metadata": {},
   "outputs": [],
   "source": [
    "dire_heros1 = pd.get_dummies(df['d1_hero'], prefix = \"Dire_Hero1\", drop_first=True)\n",
    "dire_heros2 = pd.get_dummies(df['d2_hero'], prefix = \"Dire_Hero2\", drop_first=True)\n",
    "dire_heros3 = pd.get_dummies(df['d3_hero'], prefix = \"Dire_Hero3\", drop_first=True)\n",
    "dire_heros4 = pd.get_dummies(df['d4_hero'], prefix = \"Dire_Hero4\", drop_first=True)\n",
    "dire_heros5 = pd.get_dummies(df['d5_hero'], prefix = \"Dire_Hero5\", drop_first=True)"
   ]
  },
  {
   "cell_type": "code",
   "execution_count": 41,
   "metadata": {},
   "outputs": [],
   "source": [
    "dire_items1 = pd.get_dummies(df['d1_items'], prefix = \"Dire_Items1\", drop_first=True)\n",
    "dire_items2 = pd.get_dummies(df['d2_items'], prefix = \"Dire_Items2\", drop_first=True)\n",
    "dire_items3 = pd.get_dummies(df['d3_items'], prefix = \"Dire_Items3\", drop_first=True)\n",
    "dire_items4 = pd.get_dummies(df['d4_items'], prefix = \"Dire_Items4\", drop_first=True)\n",
    "dire_items5 = pd.get_dummies(df['d5_items'], prefix = \"Dire_Items5\", drop_first=True)"
   ]
  },
  {
   "cell_type": "code",
   "execution_count": 42,
   "metadata": {},
   "outputs": [],
   "source": [
    "df = pd.concat([df, rad_heros1, rad_heros2, rad_heros3, rad_heros4, rad_heros5,\n",
    "               rad_items1, rad_items2, rad_items3, rad_items4, rad_items5,\n",
    "               dire_heros1, dire_heros2, dire_heros3, dire_heros4, dire_heros5,\n",
    "               dire_items1, dire_items2, dire_items3, dire_items4, dire_items5], axis=1)"
   ]
  },
  {
   "cell_type": "code",
   "execution_count": 43,
   "metadata": {},
   "outputs": [],
   "source": [
    "df.drop(columns=['r1_hero', 'r1_items', 'r2_hero', 'r2_items', 'r3_hero', 'r3_items',\n",
    "       'r4_hero', 'r4_items', 'r5_hero', 'r5_items', 'd1_hero', 'd1_items',\n",
    "       'd2_hero', 'd2_items', 'd3_hero', 'd3_items', 'd4_hero', 'd4_items',\n",
    "       'd5_hero', 'd5_items', 'first_blood_time', 'first_blood_player1', 'first_blood_player2'], inplace=True)"
   ]
  },
  {
   "cell_type": "code",
   "execution_count": 44,
   "metadata": {},
   "outputs": [
    {
     "data": {
      "text/html": [
       "<div>\n",
       "<style scoped>\n",
       "    .dataframe tbody tr th:only-of-type {\n",
       "        vertical-align: middle;\n",
       "    }\n",
       "\n",
       "    .dataframe tbody tr th {\n",
       "        vertical-align: top;\n",
       "    }\n",
       "\n",
       "    .dataframe thead th {\n",
       "        text-align: right;\n",
       "    }\n",
       "</style>\n",
       "<table border=\"1\" class=\"dataframe\">\n",
       "  <thead>\n",
       "    <tr style=\"text-align: right;\">\n",
       "      <th></th>\n",
       "      <th>first_blood_team</th>\n",
       "      <th>dire_first_ward_time</th>\n",
       "      <th>radiant_win</th>\n",
       "      <th>Radiant_Dire_xp_dif</th>\n",
       "      <th>Radiant_Dire_gold_dif</th>\n",
       "      <th>Radiant_Dire_lh_dif</th>\n",
       "      <th>Radiant_Dire_kill_dif</th>\n",
       "      <th>Radiant_BottleTime_dif</th>\n",
       "      <th>Radiant_CourierTime_dif</th>\n",
       "      <th>Radiant_FlyingCourier_dif</th>\n",
       "      <th>...</th>\n",
       "      <th>Dire_Items5_21</th>\n",
       "      <th>Dire_Items5_22</th>\n",
       "      <th>Dire_Items5_23</th>\n",
       "      <th>Dire_Items5_24</th>\n",
       "      <th>Dire_Items5_25</th>\n",
       "      <th>Dire_Items5_26</th>\n",
       "      <th>Dire_Items5_28</th>\n",
       "      <th>Dire_Items5_31</th>\n",
       "      <th>Dire_Items5_32</th>\n",
       "      <th>Dire_Items5_33</th>\n",
       "    </tr>\n",
       "    <tr>\n",
       "      <th>match_id</th>\n",
       "      <th></th>\n",
       "      <th></th>\n",
       "      <th></th>\n",
       "      <th></th>\n",
       "      <th></th>\n",
       "      <th></th>\n",
       "      <th></th>\n",
       "      <th></th>\n",
       "      <th></th>\n",
       "      <th></th>\n",
       "      <th></th>\n",
       "      <th></th>\n",
       "      <th></th>\n",
       "      <th></th>\n",
       "      <th></th>\n",
       "      <th></th>\n",
       "      <th></th>\n",
       "      <th></th>\n",
       "      <th></th>\n",
       "      <th></th>\n",
       "      <th></th>\n",
       "    </tr>\n",
       "  </thead>\n",
       "  <tbody>\n",
       "    <tr>\n",
       "      <th>1</th>\n",
       "      <td>0.0</td>\n",
       "      <td>0.0</td>\n",
       "      <td>1</td>\n",
       "      <td>-922</td>\n",
       "      <td>267</td>\n",
       "      <td>-6</td>\n",
       "      <td>0</td>\n",
       "      <td>-23.0</td>\n",
       "      <td>-9.0</td>\n",
       "      <td>0.0</td>\n",
       "      <td>...</td>\n",
       "      <td>0</td>\n",
       "      <td>0</td>\n",
       "      <td>0</td>\n",
       "      <td>0</td>\n",
       "      <td>0</td>\n",
       "      <td>0</td>\n",
       "      <td>0</td>\n",
       "      <td>0</td>\n",
       "      <td>0</td>\n",
       "      <td>0</td>\n",
       "    </tr>\n",
       "    <tr>\n",
       "      <th>2</th>\n",
       "      <td>0.0</td>\n",
       "      <td>-9.0</td>\n",
       "      <td>0</td>\n",
       "      <td>705</td>\n",
       "      <td>2032</td>\n",
       "      <td>31</td>\n",
       "      <td>2</td>\n",
       "      <td>0.0</td>\n",
       "      <td>-17.0</td>\n",
       "      <td>-33.0</td>\n",
       "      <td>...</td>\n",
       "      <td>0</td>\n",
       "      <td>0</td>\n",
       "      <td>0</td>\n",
       "      <td>0</td>\n",
       "      <td>0</td>\n",
       "      <td>0</td>\n",
       "      <td>0</td>\n",
       "      <td>0</td>\n",
       "      <td>0</td>\n",
       "      <td>0</td>\n",
       "    </tr>\n",
       "    <tr>\n",
       "      <th>3</th>\n",
       "      <td>0.0</td>\n",
       "      <td>18.0</td>\n",
       "      <td>1</td>\n",
       "      <td>2078</td>\n",
       "      <td>1395</td>\n",
       "      <td>16</td>\n",
       "      <td>1</td>\n",
       "      <td>43.0</td>\n",
       "      <td>34.0</td>\n",
       "      <td>-283.0</td>\n",
       "      <td>...</td>\n",
       "      <td>0</td>\n",
       "      <td>0</td>\n",
       "      <td>0</td>\n",
       "      <td>0</td>\n",
       "      <td>0</td>\n",
       "      <td>0</td>\n",
       "      <td>0</td>\n",
       "      <td>0</td>\n",
       "      <td>0</td>\n",
       "      <td>0</td>\n",
       "    </tr>\n",
       "    <tr>\n",
       "      <th>4</th>\n",
       "      <td>1.0</td>\n",
       "      <td>0.0</td>\n",
       "      <td>0</td>\n",
       "      <td>1819</td>\n",
       "      <td>1529</td>\n",
       "      <td>25</td>\n",
       "      <td>1</td>\n",
       "      <td>160.0</td>\n",
       "      <td>-20.0</td>\n",
       "      <td>216.0</td>\n",
       "      <td>...</td>\n",
       "      <td>0</td>\n",
       "      <td>0</td>\n",
       "      <td>0</td>\n",
       "      <td>0</td>\n",
       "      <td>0</td>\n",
       "      <td>0</td>\n",
       "      <td>0</td>\n",
       "      <td>0</td>\n",
       "      <td>0</td>\n",
       "      <td>0</td>\n",
       "    </tr>\n",
       "    <tr>\n",
       "      <th>5</th>\n",
       "      <td>1.0</td>\n",
       "      <td>0.0</td>\n",
       "      <td>0</td>\n",
       "      <td>-532</td>\n",
       "      <td>-328</td>\n",
       "      <td>2</td>\n",
       "      <td>-1</td>\n",
       "      <td>20.0</td>\n",
       "      <td>-44.0</td>\n",
       "      <td>0.0</td>\n",
       "      <td>...</td>\n",
       "      <td>0</td>\n",
       "      <td>0</td>\n",
       "      <td>0</td>\n",
       "      <td>0</td>\n",
       "      <td>0</td>\n",
       "      <td>0</td>\n",
       "      <td>0</td>\n",
       "      <td>0</td>\n",
       "      <td>0</td>\n",
       "      <td>0</td>\n",
       "    </tr>\n",
       "  </tbody>\n",
       "</table>\n",
       "<p>5 rows × 1382 columns</p>\n",
       "</div>"
      ],
      "text/plain": [
       "          first_blood_team  dire_first_ward_time  radiant_win  \\\n",
       "match_id                                                        \n",
       "1                      0.0                   0.0            1   \n",
       "2                      0.0                  -9.0            0   \n",
       "3                      0.0                  18.0            1   \n",
       "4                      1.0                   0.0            0   \n",
       "5                      1.0                   0.0            0   \n",
       "\n",
       "          Radiant_Dire_xp_dif  Radiant_Dire_gold_dif  Radiant_Dire_lh_dif  \\\n",
       "match_id                                                                    \n",
       "1                        -922                    267                   -6   \n",
       "2                         705                   2032                   31   \n",
       "3                        2078                   1395                   16   \n",
       "4                        1819                   1529                   25   \n",
       "5                        -532                   -328                    2   \n",
       "\n",
       "          Radiant_Dire_kill_dif  Radiant_BottleTime_dif  \\\n",
       "match_id                                                  \n",
       "1                             0                   -23.0   \n",
       "2                             2                     0.0   \n",
       "3                             1                    43.0   \n",
       "4                             1                   160.0   \n",
       "5                            -1                    20.0   \n",
       "\n",
       "          Radiant_CourierTime_dif  Radiant_FlyingCourier_dif       ...        \\\n",
       "match_id                                                           ...         \n",
       "1                            -9.0                        0.0       ...         \n",
       "2                           -17.0                      -33.0       ...         \n",
       "3                            34.0                     -283.0       ...         \n",
       "4                           -20.0                      216.0       ...         \n",
       "5                           -44.0                        0.0       ...         \n",
       "\n",
       "          Dire_Items5_21  Dire_Items5_22  Dire_Items5_23  Dire_Items5_24  \\\n",
       "match_id                                                                   \n",
       "1                      0               0               0               0   \n",
       "2                      0               0               0               0   \n",
       "3                      0               0               0               0   \n",
       "4                      0               0               0               0   \n",
       "5                      0               0               0               0   \n",
       "\n",
       "          Dire_Items5_25  Dire_Items5_26  Dire_Items5_28  Dire_Items5_31  \\\n",
       "match_id                                                                   \n",
       "1                      0               0               0               0   \n",
       "2                      0               0               0               0   \n",
       "3                      0               0               0               0   \n",
       "4                      0               0               0               0   \n",
       "5                      0               0               0               0   \n",
       "\n",
       "          Dire_Items5_32  Dire_Items5_33  \n",
       "match_id                                  \n",
       "1                      0               0  \n",
       "2                      0               0  \n",
       "3                      0               0  \n",
       "4                      0               0  \n",
       "5                      0               0  \n",
       "\n",
       "[5 rows x 1382 columns]"
      ]
     },
     "execution_count": 44,
     "metadata": {},
     "output_type": "execute_result"
    }
   ],
   "source": [
    "df.head()"
   ]
  },
  {
   "cell_type": "markdown",
   "metadata": {},
   "source": [
    "# Models"
   ]
  },
  {
   "cell_type": "code",
   "execution_count": 45,
   "metadata": {},
   "outputs": [],
   "source": [
    "def model_maker(classifier):\n",
    "    warnings.filterwarnings(\"ignore\")\n",
    "    \n",
    "    X = df.drop('radiant_win', axis=1)\n",
    "    y = df.radiant_win\n",
    "    \n",
    "    X_train, X_test, y_train, y_test = train_test_split(X, y)\n",
    "    \n",
    "    scaler = StandardScaler()\n",
    "    scaler.fit(X_train)\n",
    "    \n",
    "    X_train = scaler.transform(X_train)  \n",
    "    X_test = scaler.transform(X_test)\n",
    "   \n",
    "    clf = classifier\n",
    "    \n",
    "    clf.fit(X, y)\n",
    "    train_preds = clf.predict(X_train)\n",
    "    test_preds = clf.predict(X_test)\n",
    "    \n",
    "    print(\"Training Scores\")\n",
    "    print(\"Precision Score: {}\".format(precision_score(y_train, train_preds)))\n",
    "    print(\"Recall Score: {}\".format(recall_score(y_train, train_preds)))\n",
    "    print(\"Accuracy Score: {}\".format(accuracy_score(y_train, train_preds)))\n",
    "    print(\"F1 Score: {}\".format(f1_score(y_train, train_preds)))\n",
    "    \n",
    "    cm_lr = confusion_matrix(y_train, train_preds)\n",
    "\n",
    "    plt.figure(figsize = (9, 9))\n",
    "    sns.heatmap(cm_lr, annot = True, fmt = \".3f\", linewidths = .5, square = True, cmap = \"YlGnBu\")\n",
    "    plt.ylabel('True Label')\n",
    "    plt.xlabel('Predicted Label')\n",
    "    plt.title('Confusion Matrix for Train Data')\n",
    "    \n",
    "    print(\"\\nTesting Scores\")\n",
    "    print(\"Precision Score: {}\".format(precision_score(y_test, test_preds)))\n",
    "    print(\"Recall Score: {}\".format(recall_score(y_test, test_preds)))\n",
    "    print(\"Accuracy Score: {}\".format(accuracy_score(y_test, test_preds)))\n",
    "    print(\"F1 Score: {}\".format(f1_score(y_test, test_preds)))\n",
    "    \n",
    "    \n",
    "    cm_lr = confusion_matrix(y_test, test_preds)\n",
    "\n",
    "    plt.figure(figsize = (9, 9))\n",
    "    sns.heatmap(cm_lr, annot = True, fmt = \".3f\", linewidths = .5, square = True, cmap = \"YlGnBu\")\n",
    "    plt.ylabel('True Label')\n",
    "    plt.xlabel('Predicted Label')\n",
    "    plt.title('Confusion Matrix for Test Data')\n",
    "    \n",
    "    return clf"
   ]
  },
  {
   "cell_type": "markdown",
   "metadata": {},
   "source": [
    "## KNN Iteration 1\n",
    "Unfortunately no real change for this model. Doesn't classify everything as a win, but still biased towards it."
   ]
  },
  {
   "cell_type": "code",
   "execution_count": 54,
   "metadata": {},
   "outputs": [
    {
     "name": "stdout",
     "output_type": "stream",
     "text": [
      "Training Scores\n",
      "Precision Score: 0.5127170054373063\n",
      "Recall Score: 0.9854753267691599\n",
      "Accuracy Score: 0.5133462966236522\n",
      "F1 Score: 0.6745061333070593\n",
      "\n",
      "Testing Scores\n",
      "Precision Score: 0.5134164140563602\n",
      "Recall Score: 0.9868364264134657\n",
      "Accuracy Score: 0.5144290259855047\n",
      "F1 Score: 0.6754301750240012\n"
     ]
    },
    {
     "data": {
      "image/png": "[encoded data removed]",
      "text/plain": [
       "<Figure size 648x648 with 2 Axes>"
      ]
     },
     "metadata": {
      "needs_background": "light"
     },
     "output_type": "display_data"
    },
    {
     "data": {
      "image/png": "[encoded data removed]",
      "text/plain": [
       "<Figure size 648x648 with 2 Axes>"
      ]
     },
     "metadata": {
      "needs_background": "light"
     },
     "output_type": "display_data"
    }
   ],
   "source": [
    "knn = model_maker(KNeighborsClassifier(n_jobs = 8))"
   ]
  },
  {
   "cell_type": "markdown",
   "metadata": {},
   "source": [
    "## Logistic Regression Iteration 1\n",
    "This model saw a 4% boost to the F1 Score for training and testing and a 6% increase for testing data. The false negatives and positives decreased by several thousand and this model looks to be the best one"
   ]
  },
  {
   "cell_type": "code",
   "execution_count": 46,
   "metadata": {},
   "outputs": [
    {
     "name": "stdout",
     "output_type": "stream",
     "text": [
      "Training Scores\n",
      "Precision Score: 0.6199537875108541\n",
      "Recall Score: 0.6051429392328689\n",
      "Accuracy Score: 0.6073522479523894\n",
      "F1 Score: 0.6124588352464797\n",
      "\n",
      "Testing Scores\n",
      "Precision Score: 0.6128789887739768\n",
      "Recall Score: 0.602179954837589\n",
      "Accuracy Score: 0.6040304048082022\n",
      "F1 Score: 0.6074823673719719\n"
     ]
    },
    {
     "data": {
      "image/png": "[encoded data removed]",
      "text/plain": [
       "<Figure size 648x648 with 2 Axes>"
      ]
     },
     "metadata": {
      "needs_background": "light"
     },
     "output_type": "display_data"
    },
    {
     "data": {
      "image/png": "[encoded data removed]",
      "text/plain": [
       "<Figure size 648x648 with 2 Axes>"
      ]
     },
     "metadata": {
      "needs_background": "light"
     },
     "output_type": "display_data"
    }
   ],
   "source": [
    "logreg = model_maker(LogisticRegression(n_jobs = 8))"
   ]
  },
  {
   "cell_type": "code",
   "execution_count": 47,
   "metadata": {},
   "outputs": [],
   "source": [
    "pred = []\n",
    "for predictions in logreg.predict_proba(df.drop('radiant_win', axis=1)):\n",
    "    pred.append(predictions[1])\n",
    "df['Probability'] = pred"
   ]
  },
  {
   "cell_type": "code",
   "execution_count": 48,
   "metadata": {},
   "outputs": [],
   "source": [
    "df.to_csv('Dataframe_after_first_iteration.csv')"
   ]
  },
  {
   "cell_type": "code",
   "execution_count": 47,
   "metadata": {},
   "outputs": [
    {
     "name": "stdout",
     "output_type": "stream",
     "text": [
      "Training Scores\n",
      "Precision Score: 0.5795056682849371\n",
      "Recall Score: 0.6409466501597904\n",
      "Accuracy Score: 0.5783321548523953\n",
      "F1 Score: 0.6086796038196273\n",
      "\n",
      "Testing Scores\n",
      "Precision Score: 0.5828317400369802\n",
      "Recall Score: 0.6393492145693078\n",
      "Accuracy Score: 0.5810279299982323\n",
      "F1 Score: 0.6097837048013007\n"
     ]
    },
    {
     "data": {
      "image/png": "[encoded data removed]",
      "text/plain": [
       "<Figure size 648x648 with 2 Axes>"
      ]
     },
     "metadata": {
      "needs_background": "light"
     },
     "output_type": "display_data"
    },
    {
     "data": {
      "image/png": "[encoded data removed]",
      "text/plain": [
       "<Figure size 648x648 with 2 Axes>"
      ]
     },
     "metadata": {
      "needs_background": "light"
     },
     "output_type": "display_data"
    }
   ],
   "source": [
    "best_logreg = model_maker(LogisticRegression(solver='saga', C=.001, n_jobs=-1))"
   ]
  },
  {
   "cell_type": "markdown",
   "metadata": {},
   "source": [
    "## Decision Trees Iteration 1\n",
    "This model predicted more winners after the creation of dummy variables and is significantly better than the initial model. This model predicts true losses better than any other model so combining this with logistic and XGBoost might be the best combination"
   ]
  },
  {
   "cell_type": "code",
   "execution_count": 53,
   "metadata": {},
   "outputs": [
    {
     "name": "stdout",
     "output_type": "stream",
     "text": [
      "Training Scores\n",
      "Precision Score: 0.6309521515425973\n",
      "Recall Score: 0.47139278412853813\n",
      "Accuracy Score: 0.588511283954982\n",
      "F1 Score: 0.5396247249713642\n",
      "\n",
      "Testing Scores\n",
      "Precision Score: 0.6274974015475228\n",
      "Recall Score: 0.468809318377912\n",
      "Accuracy Score: 0.5853809439632314\n",
      "F1 Score: 0.5366684774556768\n"
     ]
    },
    {
     "data": {
      "image/png": "[encoded data removed]",
      "text/plain": [
       "<Figure size 648x648 with 2 Axes>"
      ]
     },
     "metadata": {
      "needs_background": "light"
     },
     "output_type": "display_data"
    },
    {
     "data": {
      "image/png": "[encoded data removed]",
      "text/plain": [
       "<Figure size 648x648 with 2 Axes>"
      ]
     },
     "metadata": {
      "needs_background": "light"
     },
     "output_type": "display_data"
    }
   ],
   "source": [
    "dt = model_maker(DecisionTreeClassifier())"
   ]
  },
  {
   "cell_type": "markdown",
   "metadata": {},
   "source": [
    "## Random Forest Iteration 1\n",
    "This model predicted more winners after the creation of dummy variables and is significantly better than the initial model. However, it is not the best model. "
   ]
  },
  {
   "cell_type": "code",
   "execution_count": 49,
   "metadata": {},
   "outputs": [
    {
     "name": "stdout",
     "output_type": "stream",
     "text": [
      "Training Scores\n",
      "Precision Score: 0.6370796205806266\n",
      "Recall Score: 0.4780914307079481\n",
      "Accuracy Score: 0.5931883801779506\n",
      "F1 Score: 0.5462521770562914\n",
      "\n",
      "Testing Scores\n",
      "Precision Score: 0.6375344986200552\n",
      "Recall Score: 0.48002078012035154\n",
      "Accuracy Score: 0.5953022803606152\n",
      "F1 Score: 0.547677261613692\n"
     ]
    },
    {
     "data": {
      "image/png": "[encoded data removed]",
      "text/plain": [
       "<Figure size 648x648 with 2 Axes>"
      ]
     },
     "metadata": {
      "needs_background": "light"
     },
     "output_type": "display_data"
    },
    {
     "data": {
      "image/png": "[encoded data removed]",
      "text/plain": [
       "<Figure size 648x648 with 2 Axes>"
      ]
     },
     "metadata": {
      "needs_background": "light"
     },
     "output_type": "display_data"
    }
   ],
   "source": [
    "rf = model_maker(RandomForestClassifier(n_jobs = 6))"
   ]
  },
  {
   "cell_type": "markdown",
   "metadata": {},
   "source": [
    "# XGBoost Iteration 1\n",
    "Best model so far, however logistic regression predicts true losses better so combining this model and logistic regression might yield better results"
   ]
  },
  {
   "cell_type": "code",
   "execution_count": 50,
   "metadata": {},
   "outputs": [],
   "source": [
    "xg_clf = XGBClassifier(objective ='binary:logistic', colsample_bytree = 0.3, learning_rate = 0.1,\n",
    "                max_depth = 2, alpha = 10, n_estimators = 100, n_jobs=8)\n",
    "\n",
    "X = df.drop('radiant_win', axis=1)\n",
    "y = df.radiant_win\n",
    "    \n",
    "X_train, X_test, y_train, y_test = train_test_split(X, y)\n",
    "    \n",
    "scaler = StandardScaler()\n",
    "scaler.fit(X_train)\n",
    "    \n",
    "X_train = scaler.transform(X_train)  \n",
    "X_test = scaler.transform(X_test)"
   ]
  },
  {
   "cell_type": "code",
   "execution_count": 51,
   "metadata": {},
   "outputs": [
    {
     "data": {
      "text/plain": [
       "XGBClassifier(alpha=10, base_score=0.5, booster='gbtree', colsample_bylevel=1,\n",
       "       colsample_bytree=0.3, gamma=0, learning_rate=0.1, max_delta_step=0,\n",
       "       max_depth=2, min_child_weight=1, missing=None, n_estimators=100,\n",
       "       n_jobs=8, nthread=None, objective='binary:logistic', random_state=0,\n",
       "       reg_alpha=0, reg_lambda=1, scale_pos_weight=1, seed=None,\n",
       "       silent=True, subsample=1)"
      ]
     },
     "execution_count": 51,
     "metadata": {},
     "output_type": "execute_result"
    }
   ],
   "source": [
    "xg_clf.fit(X_train,y_train)"
   ]
  },
  {
   "cell_type": "code",
   "execution_count": 52,
   "metadata": {},
   "outputs": [
    {
     "name": "stdout",
     "output_type": "stream",
     "text": [
      "Training Scores\n",
      "Precision Score: 0.6625823541397813\n",
      "Recall Score: 0.6997188271073621\n",
      "Accuracy Score: 0.6628734311472512\n",
      "F1 Score: 0.6806444185511048\n",
      "\n",
      "Testing Scores\n",
      "Precision Score: 0.6503476599032245\n",
      "Recall Score: 0.6975141735717401\n",
      "Accuracy Score: 0.6567305992575571\n",
      "F1 Score: 0.6731056541043284\n"
     ]
    },
    {
     "data": {
      "text/plain": [
       "Text(0.5, 1.0, 'Confusion Matrix for Test Data')"
      ]
     },
     "execution_count": 52,
     "metadata": {},
     "output_type": "execute_result"
    },
    {
     "data": {
      "image/png": "[encoded data removed]",
      "text/plain": [
       "<Figure size 648x648 with 2 Axes>"
      ]
     },
     "metadata": {
      "needs_background": "light"
     },
     "output_type": "display_data"
    },
    {
     "data": {
      "image/png": "[encoded data removed]",
      "text/plain": [
       "<Figure size 648x648 with 2 Axes>"
      ]
     },
     "metadata": {
      "needs_background": "light"
     },
     "output_type": "display_data"
    }
   ],
   "source": [
    "train_preds = xg_clf.predict(X_train)\n",
    "test_preds = xg_clf.predict(X_test)\n",
    "\n",
    "print(\"Training Scores\")\n",
    "print(\"Precision Score: {}\".format(precision_score(y_train, train_preds)))\n",
    "print(\"Recall Score: {}\".format(recall_score(y_train, train_preds)))\n",
    "print(\"Accuracy Score: {}\".format(accuracy_score(y_train, train_preds)))\n",
    "print(\"F1 Score: {}\".format(f1_score(y_train, train_preds)))\n",
    "\n",
    "cm_lr = confusion_matrix(y_train, train_preds)\n",
    "\n",
    "plt.figure(figsize = (9, 9))\n",
    "sns.heatmap(cm_lr, annot = True, fmt = \".3f\", linewidths = .5, square = True, cmap = \"YlGnBu\")\n",
    "plt.ylabel('True Label')\n",
    "plt.xlabel('Predicted Label')\n",
    "plt.title('Confusion Matrix for Train Data')\n",
    "    \n",
    "print(\"\\nTesting Scores\")\n",
    "print(\"Precision Score: {}\".format(precision_score(y_test, test_preds)))\n",
    "print(\"Recall Score: {}\".format(recall_score(y_test, test_preds)))\n",
    "print(\"Accuracy Score: {}\".format(accuracy_score(y_test, test_preds)))\n",
    "print(\"F1 Score: {}\".format(f1_score(y_test, test_preds)))\n",
    "    \n",
    "    \n",
    "cm_lr = confusion_matrix(y_test, test_preds)\n",
    "\n",
    "plt.figure(figsize = (9, 9))\n",
    "sns.heatmap(cm_lr, annot = True, fmt = \".3f\", linewidths = .5, square = True, cmap = \"YlGnBu\")\n",
    "plt.ylabel('True Label')\n",
    "plt.xlabel('Predicted Label')\n",
    "plt.title('Confusion Matrix for Test Data')"
   ]
  },
  {
   "cell_type": "markdown",
   "metadata": {},
   "source": [
    "# Pickling My Models"
   ]
  },
  {
   "cell_type": "code",
   "execution_count": 58,
   "metadata": {},
   "outputs": [],
   "source": [
    "#save our model\n",
    "import pickle # pickle list object\n",
    "model_pickle_path = 'Logistic_Regression.pkl'\n",
    "\n",
    "model_pickle = open(model_pickle_path, 'wb')\n",
    "pickle.dump(logreg, model_pickle)\n",
    "model_pickle.close()"
   ]
  },
  {
   "cell_type": "code",
   "execution_count": 59,
   "metadata": {},
   "outputs": [],
   "source": [
    "model_pickle_path2 = 'XGBoost.pkl'\n",
    "\n",
    "model_pickle = open(model_pickle_path2, 'wb')\n",
    "pickle.dump(xg_clf, model_pickle)\n",
    "model_pickle.close()"
   ]
  },
  {
   "cell_type": "code",
   "execution_count": 60,
   "metadata": {},
   "outputs": [],
   "source": [
    "model_pickle_path3 = 'Random_Forest.pkl'\n",
    "\n",
    "model_pickle = open(model_pickle_path3, 'wb')\n",
    "pickle.dump(rf, model_pickle)\n",
    "model_pickle.close()"
   ]
  },
  {
   "cell_type": "code",
   "execution_count": null,
   "metadata": {},
   "outputs": [],
   "source": []
  }
 ],
 "metadata": {
  "kernelspec": {
   "display_name": "Python 3",
   "language": "python",
   "name": "python3"
  },
  "language_info": {
   "codemirror_mode": {
    "name": "ipython",
    "version": 3
   },
   "file_extension": ".py",
   "mimetype": "text/x-python",
   "name": "python",
   "nbconvert_exporter": "python",
   "pygments_lexer": "ipython3",
   "version": "3.7.1"
  }
 },
 "nbformat": 4,
 "nbformat_minor": 2
}
