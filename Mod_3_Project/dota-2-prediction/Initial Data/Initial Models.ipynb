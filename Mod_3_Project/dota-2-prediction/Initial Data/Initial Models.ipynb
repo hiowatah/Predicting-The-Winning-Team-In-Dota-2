{
 "cells": [
  {
   "cell_type": "code",
   "execution_count": 39,
   "metadata": {},
   "outputs": [],
   "source": [
    "#Libariries for Data Analysis\n",
    "import pandas as pd\n",
    "import numpy as np\n",
    "import seaborn as sns\n",
    "import matplotlib.pyplot as plt\n",
    "\n",
    "#Libraries for ML\n",
    "from sklearn.preprocessing import StandardScaler\n",
    "\n",
    "from sklearn.linear_model import LogisticRegression\n",
    "from sklearn.neighbors import KNeighborsClassifier\n",
    "from sklearn.tree import DecisionTreeClassifier\n",
    "from sklearn.ensemble import BaggingClassifier, RandomForestClassifier\n",
    "\n",
    "from sklearn.metrics import precision_score, recall_score, accuracy_score, f1_score, confusion_matrix\n",
    "from sklearn.model_selection import train_test_split, GridSearchCV\n",
    "\n",
    "#To make the cells look cleaner\n",
    "import warnings\n"
   ]
  },
  {
   "cell_type": "code",
   "execution_count": 34,
   "metadata": {},
   "outputs": [],
   "source": [
    "df = pd.read_csv('Cleaned Training.csv', index_col = 'match_id')\n",
    "df2 = pd.read_csv('Cleaned Testing.csv', index_col = 'match_id')"
   ]
  },
  {
   "cell_type": "code",
   "execution_count": 35,
   "metadata": {},
   "outputs": [
    {
     "data": {
      "text/html": [
       "<div>\n",
       "<style scoped>\n",
       "    .dataframe tbody tr th:only-of-type {\n",
       "        vertical-align: middle;\n",
       "    }\n",
       "\n",
       "    .dataframe tbody tr th {\n",
       "        vertical-align: top;\n",
       "    }\n",
       "\n",
       "    .dataframe thead th {\n",
       "        text-align: right;\n",
       "    }\n",
       "</style>\n",
       "<table border=\"1\" class=\"dataframe\">\n",
       "  <thead>\n",
       "    <tr style=\"text-align: right;\">\n",
       "      <th></th>\n",
       "      <th>r1_hero</th>\n",
       "      <th>r1_items</th>\n",
       "      <th>r2_hero</th>\n",
       "      <th>r2_items</th>\n",
       "      <th>r3_hero</th>\n",
       "      <th>r3_items</th>\n",
       "      <th>r4_hero</th>\n",
       "      <th>r4_items</th>\n",
       "      <th>r5_hero</th>\n",
       "      <th>r5_items</th>\n",
       "      <th>...</th>\n",
       "      <th>dire_first_ward_time</th>\n",
       "      <th>radiant_win</th>\n",
       "      <th>Radiant_Total_xp</th>\n",
       "      <th>Dire_Total_xp</th>\n",
       "      <th>Radiant_Total_gold</th>\n",
       "      <th>Dire_Total_gold</th>\n",
       "      <th>Radiant_Total_lh</th>\n",
       "      <th>Dire_Total_lh</th>\n",
       "      <th>Radiant_Total_kills</th>\n",
       "      <th>Dire_Total_kills</th>\n",
       "    </tr>\n",
       "    <tr>\n",
       "      <th>match_id</th>\n",
       "      <th></th>\n",
       "      <th></th>\n",
       "      <th></th>\n",
       "      <th></th>\n",
       "      <th></th>\n",
       "      <th></th>\n",
       "      <th></th>\n",
       "      <th></th>\n",
       "      <th></th>\n",
       "      <th></th>\n",
       "      <th></th>\n",
       "      <th></th>\n",
       "      <th></th>\n",
       "      <th></th>\n",
       "      <th></th>\n",
       "      <th></th>\n",
       "      <th></th>\n",
       "      <th></th>\n",
       "      <th></th>\n",
       "      <th></th>\n",
       "      <th></th>\n",
       "    </tr>\n",
       "  </thead>\n",
       "  <tbody>\n",
       "    <tr>\n",
       "      <th>1</th>\n",
       "      <td>44</td>\n",
       "      <td>7</td>\n",
       "      <td>97</td>\n",
       "      <td>6</td>\n",
       "      <td>29</td>\n",
       "      <td>9</td>\n",
       "      <td>85</td>\n",
       "      <td>8</td>\n",
       "      <td>40</td>\n",
       "      <td>7</td>\n",
       "      <td>...</td>\n",
       "      <td>0.0</td>\n",
       "      <td>1</td>\n",
       "      <td>5497</td>\n",
       "      <td>6419</td>\n",
       "      <td>4615</td>\n",
       "      <td>4348</td>\n",
       "      <td>46</td>\n",
       "      <td>52</td>\n",
       "      <td>0</td>\n",
       "      <td>0</td>\n",
       "    </tr>\n",
       "    <tr>\n",
       "      <th>2</th>\n",
       "      <td>77</td>\n",
       "      <td>6</td>\n",
       "      <td>47</td>\n",
       "      <td>15</td>\n",
       "      <td>68</td>\n",
       "      <td>9</td>\n",
       "      <td>20</td>\n",
       "      <td>7</td>\n",
       "      <td>51</td>\n",
       "      <td>7</td>\n",
       "      <td>...</td>\n",
       "      <td>-9.0</td>\n",
       "      <td>0</td>\n",
       "      <td>5820</td>\n",
       "      <td>5115</td>\n",
       "      <td>6021</td>\n",
       "      <td>3989</td>\n",
       "      <td>61</td>\n",
       "      <td>30</td>\n",
       "      <td>2</td>\n",
       "      <td>0</td>\n",
       "    </tr>\n",
       "    <tr>\n",
       "      <th>3</th>\n",
       "      <td>66</td>\n",
       "      <td>7</td>\n",
       "      <td>22</td>\n",
       "      <td>8</td>\n",
       "      <td>76</td>\n",
       "      <td>6</td>\n",
       "      <td>23</td>\n",
       "      <td>6</td>\n",
       "      <td>87</td>\n",
       "      <td>7</td>\n",
       "      <td>...</td>\n",
       "      <td>18.0</td>\n",
       "      <td>1</td>\n",
       "      <td>8085</td>\n",
       "      <td>6007</td>\n",
       "      <td>6491</td>\n",
       "      <td>5096</td>\n",
       "      <td>75</td>\n",
       "      <td>59</td>\n",
       "      <td>2</td>\n",
       "      <td>1</td>\n",
       "    </tr>\n",
       "    <tr>\n",
       "      <th>4</th>\n",
       "      <td>5</td>\n",
       "      <td>10</td>\n",
       "      <td>53</td>\n",
       "      <td>4</td>\n",
       "      <td>1</td>\n",
       "      <td>7</td>\n",
       "      <td>21</td>\n",
       "      <td>9</td>\n",
       "      <td>11</td>\n",
       "      <td>4</td>\n",
       "      <td>...</td>\n",
       "      <td>0.0</td>\n",
       "      <td>0</td>\n",
       "      <td>7756</td>\n",
       "      <td>5937</td>\n",
       "      <td>6436</td>\n",
       "      <td>4907</td>\n",
       "      <td>73</td>\n",
       "      <td>48</td>\n",
       "      <td>2</td>\n",
       "      <td>1</td>\n",
       "    </tr>\n",
       "    <tr>\n",
       "      <th>5</th>\n",
       "      <td>102</td>\n",
       "      <td>6</td>\n",
       "      <td>98</td>\n",
       "      <td>9</td>\n",
       "      <td>75</td>\n",
       "      <td>5</td>\n",
       "      <td>21</td>\n",
       "      <td>2</td>\n",
       "      <td>74</td>\n",
       "      <td>6</td>\n",
       "      <td>...</td>\n",
       "      <td>0.0</td>\n",
       "      <td>0</td>\n",
       "      <td>5399</td>\n",
       "      <td>5931</td>\n",
       "      <td>5143</td>\n",
       "      <td>5471</td>\n",
       "      <td>44</td>\n",
       "      <td>42</td>\n",
       "      <td>1</td>\n",
       "      <td>2</td>\n",
       "    </tr>\n",
       "  </tbody>\n",
       "</table>\n",
       "<p>5 rows × 49 columns</p>\n",
       "</div>"
      ],
      "text/plain": [
       "          r1_hero  r1_items  r2_hero  r2_items  r3_hero  r3_items  r4_hero  \\\n",
       "match_id                                                                     \n",
       "1              44         7       97         6       29         9       85   \n",
       "2              77         6       47        15       68         9       20   \n",
       "3              66         7       22         8       76         6       23   \n",
       "4               5        10       53         4        1         7       21   \n",
       "5             102         6       98         9       75         5       21   \n",
       "\n",
       "          r4_items  r5_hero  r5_items        ...         dire_first_ward_time  \\\n",
       "match_id                                     ...                                \n",
       "1                8       40         7        ...                          0.0   \n",
       "2                7       51         7        ...                         -9.0   \n",
       "3                6       87         7        ...                         18.0   \n",
       "4                9       11         4        ...                          0.0   \n",
       "5                2       74         6        ...                          0.0   \n",
       "\n",
       "          radiant_win  Radiant_Total_xp  Dire_Total_xp  Radiant_Total_gold  \\\n",
       "match_id                                                                     \n",
       "1                   1              5497           6419                4615   \n",
       "2                   0              5820           5115                6021   \n",
       "3                   1              8085           6007                6491   \n",
       "4                   0              7756           5937                6436   \n",
       "5                   0              5399           5931                5143   \n",
       "\n",
       "          Dire_Total_gold  Radiant_Total_lh  Dire_Total_lh  \\\n",
       "match_id                                                     \n",
       "1                    4348                46             52   \n",
       "2                    3989                61             30   \n",
       "3                    5096                75             59   \n",
       "4                    4907                73             48   \n",
       "5                    5471                44             42   \n",
       "\n",
       "          Radiant_Total_kills  Dire_Total_kills  \n",
       "match_id                                         \n",
       "1                           0                 0  \n",
       "2                           2                 0  \n",
       "3                           2                 1  \n",
       "4                           2                 1  \n",
       "5                           1                 2  \n",
       "\n",
       "[5 rows x 49 columns]"
      ]
     },
     "execution_count": 35,
     "metadata": {},
     "output_type": "execute_result"
    }
   ],
   "source": [
    "df.head()"
   ]
  },
  {
   "cell_type": "code",
   "execution_count": 36,
   "metadata": {},
   "outputs": [
    {
     "data": {
      "text/html": [
       "<div>\n",
       "<style scoped>\n",
       "    .dataframe tbody tr th:only-of-type {\n",
       "        vertical-align: middle;\n",
       "    }\n",
       "\n",
       "    .dataframe tbody tr th {\n",
       "        vertical-align: top;\n",
       "    }\n",
       "\n",
       "    .dataframe thead th {\n",
       "        text-align: right;\n",
       "    }\n",
       "</style>\n",
       "<table border=\"1\" class=\"dataframe\">\n",
       "  <thead>\n",
       "    <tr style=\"text-align: right;\">\n",
       "      <th></th>\n",
       "      <th>r1_hero</th>\n",
       "      <th>r1_items</th>\n",
       "      <th>r2_hero</th>\n",
       "      <th>r2_items</th>\n",
       "      <th>r3_hero</th>\n",
       "      <th>r3_items</th>\n",
       "      <th>r4_hero</th>\n",
       "      <th>r4_items</th>\n",
       "      <th>r5_hero</th>\n",
       "      <th>r5_items</th>\n",
       "      <th>...</th>\n",
       "      <th>dire_ward_sentry_count</th>\n",
       "      <th>dire_first_ward_time</th>\n",
       "      <th>Radiant_Total_xp</th>\n",
       "      <th>Dire_Total_xp</th>\n",
       "      <th>Radiant_Total_gold</th>\n",
       "      <th>Dire_Total_gold</th>\n",
       "      <th>Radiant_Total_lh</th>\n",
       "      <th>Dire_Total_lh</th>\n",
       "      <th>Radiant_Total_kills</th>\n",
       "      <th>Dire_Total_kills</th>\n",
       "    </tr>\n",
       "    <tr>\n",
       "      <th>match_id</th>\n",
       "      <th></th>\n",
       "      <th></th>\n",
       "      <th></th>\n",
       "      <th></th>\n",
       "      <th></th>\n",
       "      <th></th>\n",
       "      <th></th>\n",
       "      <th></th>\n",
       "      <th></th>\n",
       "      <th></th>\n",
       "      <th></th>\n",
       "      <th></th>\n",
       "      <th></th>\n",
       "      <th></th>\n",
       "      <th></th>\n",
       "      <th></th>\n",
       "      <th></th>\n",
       "      <th></th>\n",
       "      <th></th>\n",
       "      <th></th>\n",
       "      <th></th>\n",
       "    </tr>\n",
       "  </thead>\n",
       "  <tbody>\n",
       "    <tr>\n",
       "      <th>1</th>\n",
       "      <td>57</td>\n",
       "      <td>8</td>\n",
       "      <td>11</td>\n",
       "      <td>8</td>\n",
       "      <td>50</td>\n",
       "      <td>6</td>\n",
       "      <td>59</td>\n",
       "      <td>16</td>\n",
       "      <td>104</td>\n",
       "      <td>7</td>\n",
       "      <td>...</td>\n",
       "      <td>0</td>\n",
       "      <td>-6.0</td>\n",
       "      <td>6795</td>\n",
       "      <td>6602</td>\n",
       "      <td>5316</td>\n",
       "      <td>5430</td>\n",
       "      <td>65</td>\n",
       "      <td>55</td>\n",
       "      <td>0</td>\n",
       "      <td>1</td>\n",
       "    </tr>\n",
       "    <tr>\n",
       "      <th>2</th>\n",
       "      <td>51</td>\n",
       "      <td>6</td>\n",
       "      <td>42</td>\n",
       "      <td>5</td>\n",
       "      <td>76</td>\n",
       "      <td>9</td>\n",
       "      <td>23</td>\n",
       "      <td>6</td>\n",
       "      <td>8</td>\n",
       "      <td>7</td>\n",
       "      <td>...</td>\n",
       "      <td>0</td>\n",
       "      <td>0.0</td>\n",
       "      <td>5772</td>\n",
       "      <td>6383</td>\n",
       "      <td>4203</td>\n",
       "      <td>4820</td>\n",
       "      <td>38</td>\n",
       "      <td>45</td>\n",
       "      <td>0</td>\n",
       "      <td>0</td>\n",
       "    </tr>\n",
       "    <tr>\n",
       "      <th>3</th>\n",
       "      <td>112</td>\n",
       "      <td>2</td>\n",
       "      <td>71</td>\n",
       "      <td>0</td>\n",
       "      <td>8</td>\n",
       "      <td>7</td>\n",
       "      <td>11</td>\n",
       "      <td>3</td>\n",
       "      <td>26</td>\n",
       "      <td>9</td>\n",
       "      <td>...</td>\n",
       "      <td>0</td>\n",
       "      <td>8.0</td>\n",
       "      <td>6254</td>\n",
       "      <td>5553</td>\n",
       "      <td>5232</td>\n",
       "      <td>4622</td>\n",
       "      <td>53</td>\n",
       "      <td>37</td>\n",
       "      <td>0</td>\n",
       "      <td>1</td>\n",
       "    </tr>\n",
       "    <tr>\n",
       "      <th>4</th>\n",
       "      <td>57</td>\n",
       "      <td>9</td>\n",
       "      <td>62</td>\n",
       "      <td>7</td>\n",
       "      <td>44</td>\n",
       "      <td>3</td>\n",
       "      <td>107</td>\n",
       "      <td>6</td>\n",
       "      <td>76</td>\n",
       "      <td>11</td>\n",
       "      <td>...</td>\n",
       "      <td>0</td>\n",
       "      <td>-16.0</td>\n",
       "      <td>6518</td>\n",
       "      <td>5558</td>\n",
       "      <td>5226</td>\n",
       "      <td>4879</td>\n",
       "      <td>49</td>\n",
       "      <td>45</td>\n",
       "      <td>1</td>\n",
       "      <td>1</td>\n",
       "    </tr>\n",
       "    <tr>\n",
       "      <th>5</th>\n",
       "      <td>74</td>\n",
       "      <td>5</td>\n",
       "      <td>85</td>\n",
       "      <td>10</td>\n",
       "      <td>97</td>\n",
       "      <td>6</td>\n",
       "      <td>71</td>\n",
       "      <td>5</td>\n",
       "      <td>54</td>\n",
       "      <td>7</td>\n",
       "      <td>...</td>\n",
       "      <td>0</td>\n",
       "      <td>-21.0</td>\n",
       "      <td>6033</td>\n",
       "      <td>6585</td>\n",
       "      <td>4651</td>\n",
       "      <td>5963</td>\n",
       "      <td>39</td>\n",
       "      <td>52</td>\n",
       "      <td>1</td>\n",
       "      <td>3</td>\n",
       "    </tr>\n",
       "  </tbody>\n",
       "</table>\n",
       "<p>5 rows × 48 columns</p>\n",
       "</div>"
      ],
      "text/plain": [
       "          r1_hero  r1_items  r2_hero  r2_items  r3_hero  r3_items  r4_hero  \\\n",
       "match_id                                                                     \n",
       "1              57         8       11         8       50         6       59   \n",
       "2              51         6       42         5       76         9       23   \n",
       "3             112         2       71         0        8         7       11   \n",
       "4              57         9       62         7       44         3      107   \n",
       "5              74         5       85        10       97         6       71   \n",
       "\n",
       "          r4_items  r5_hero  r5_items        ...         \\\n",
       "match_id                                     ...          \n",
       "1               16      104         7        ...          \n",
       "2                6        8         7        ...          \n",
       "3                3       26         9        ...          \n",
       "4                6       76        11        ...          \n",
       "5                5       54         7        ...          \n",
       "\n",
       "          dire_ward_sentry_count  dire_first_ward_time  Radiant_Total_xp  \\\n",
       "match_id                                                                   \n",
       "1                              0                  -6.0              6795   \n",
       "2                              0                   0.0              5772   \n",
       "3                              0                   8.0              6254   \n",
       "4                              0                 -16.0              6518   \n",
       "5                              0                 -21.0              6033   \n",
       "\n",
       "          Dire_Total_xp  Radiant_Total_gold  Dire_Total_gold  \\\n",
       "match_id                                                       \n",
       "1                  6602                5316             5430   \n",
       "2                  6383                4203             4820   \n",
       "3                  5553                5232             4622   \n",
       "4                  5558                5226             4879   \n",
       "5                  6585                4651             5963   \n",
       "\n",
       "          Radiant_Total_lh  Dire_Total_lh  Radiant_Total_kills  \\\n",
       "match_id                                                         \n",
       "1                       65             55                    0   \n",
       "2                       38             45                    0   \n",
       "3                       53             37                    0   \n",
       "4                       49             45                    1   \n",
       "5                       39             52                    1   \n",
       "\n",
       "          Dire_Total_kills  \n",
       "match_id                    \n",
       "1                        1  \n",
       "2                        0  \n",
       "3                        1  \n",
       "4                        1  \n",
       "5                        3  \n",
       "\n",
       "[5 rows x 48 columns]"
      ]
     },
     "execution_count": 36,
     "metadata": {},
     "output_type": "execute_result"
    }
   ],
   "source": [
    "df2.head()"
   ]
  },
  {
   "cell_type": "markdown",
   "metadata": {},
   "source": [
    "# Initial Models"
   ]
  },
  {
   "cell_type": "code",
   "execution_count": 37,
   "metadata": {},
   "outputs": [],
   "source": [
    "def model_maker(classifier):\n",
    "    warnings.filterwarnings(\"ignore\")\n",
    "    \n",
    "    X = df.drop('radiant_win', axis=1)\n",
    "    y = df.radiant_win\n",
    "    \n",
    "    X_train, X_test, y_train, y_test = train_test_split(X, y)\n",
    "    \n",
    "    scaler = StandardScaler()\n",
    "    scaler.fit(X_train)\n",
    "    \n",
    "    X_train = scaler.transform(X_train)  \n",
    "    X_test = scaler.transform(X_test)\n",
    "   \n",
    "    clf = classifier\n",
    "    \n",
    "    clf.fit(X, y)\n",
    "    train_preds = clf.predict(X_train)\n",
    "    test_preds = clf.predict(X_test)\n",
    "    \n",
    "    print(\"Training Scores\")\n",
    "    print(\"Precision Score: {}\".format(precision_score(y_train, train_preds)))\n",
    "    print(\"Recall Score: {}\".format(recall_score(y_train, train_preds)))\n",
    "    print(\"Accuracy Score: {}\".format(accuracy_score(y_train, train_preds)))\n",
    "    print(\"F1 Score: {}\".format(f1_score(y_train, train_preds)))\n",
    "    \n",
    "    cm_lr = confusion_matrix(y_train, train_preds)\n",
    "\n",
    "    plt.figure(figsize = (9, 9))\n",
    "    sns.heatmap(cm_lr, annot = True, fmt = \".3f\", linewidths = .5, square = True, cmap = \"YlGnBu\")\n",
    "    plt.ylabel('True Label')\n",
    "    plt.xlabel('Predicted Label')\n",
    "    plt.title('Confusion Matrix for Train Data')\n",
    "    \n",
    "    print(\"\\nTesting Scores\")\n",
    "    print(\"Precision Score: {}\".format(precision_score(y_test, test_preds)))\n",
    "    print(\"Recall Score: {}\".format(recall_score(y_test, test_preds)))\n",
    "    print(\"Accuracy Score: {}\".format(accuracy_score(y_test, test_preds)))\n",
    "    print(\"F1 Score: {}\".format(f1_score(y_test, test_preds)))\n",
    "    \n",
    "    \n",
    "    cm_lr = confusion_matrix(y_test, test_preds)\n",
    "\n",
    "    plt.figure(figsize = (9, 9))\n",
    "    sns.heatmap(cm_lr, annot = True, fmt = \".3f\", linewidths = .5, square = True, cmap = \"YlGnBu\")\n",
    "    plt.ylabel('True Label')\n",
    "    plt.xlabel('Predicted Label')\n",
    "    plt.title('Confusion Matrix for Test Data')\n",
    "    \n",
    "    return clf"
   ]
  },
  {
   "cell_type": "markdown",
   "metadata": {},
   "source": [
    "## Baseline KNN\n",
    "This shows that the features in my model don't really work well with this model as it is only guessing a Radiant win every single time. Will need to continue feature engineering to improve the model"
   ]
  },
  {
   "cell_type": "code",
   "execution_count": 38,
   "metadata": {},
   "outputs": [
    {
     "name": "stdout",
     "output_type": "stream",
     "text": [
      "Training Scores\n",
      "Precision Score: 0.5113502445347946\n",
      "Recall Score: 1.0\n",
      "Accuracy Score: 0.5113502445347946\n",
      "F1 Score: 0.67668000370383\n",
      "\n",
      "Testing Scores\n",
      "Precision Score: 0.5129264627894644\n",
      "Recall Score: 1.0\n",
      "Accuracy Score: 0.5129264627894644\n",
      "F1 Score: 0.6780586834917993\n"
     ]
    },
    {
     "data": {
      "image/png": "[encoded data removed]",
      "text/plain": [
       "<Figure size 648x648 with 2 Axes>"
      ]
     },
     "metadata": {
      "needs_background": "light"
     },
     "output_type": "display_data"
    },
    {
     "data": {
      "image/png": "[encoded data removed]",
      "text/plain": [
       "<Figure size 648x648 with 2 Axes>"
      ]
     },
     "metadata": {
      "needs_background": "light"
     },
     "output_type": "display_data"
    }
   ],
   "source": [
    "knn = model_maker(KNeighborsClassifier(n_jobs = 4))"
   ]
  },
  {
   "cell_type": "markdown",
   "metadata": {},
   "source": [
    "## Baseline Logistic Regression\n",
    "\n",
    "This shows that the features in my model don't really work well with this model as it has a really hard time distinguishing between a team winning or losing based on the data available from the first 5 minutes. It basically guesses at random whether each game will be a win or a loss. Will need to continue feature engineering to improve the model"
   ]
  },
  {
   "cell_type": "code",
   "execution_count": 28,
   "metadata": {},
   "outputs": [
    {
     "name": "stdout",
     "output_type": "stream",
     "text": [
      "Training Scores\n",
      "Precision Score: 0.5511122182819964\n",
      "Recall Score: 0.5417524956425289\n",
      "Accuracy Score: 0.5400609863885452\n",
      "F1 Score: 0.5463922767918759\n",
      "\n",
      "Testing Scores\n",
      "Precision Score: 0.550640227636493\n",
      "Recall Score: 0.5334453202394797\n",
      "Accuracy Score: 0.5373210182075305\n",
      "F1 Score: 0.5419064079284168\n"
     ]
    },
    {
     "data": {
      "image/png": "[encoded data removed]",
      "text/plain": [
       "<Figure size 648x648 with 2 Axes>"
      ]
     },
     "metadata": {
      "needs_background": "light"
     },
     "output_type": "display_data"
    },
    {
     "data": {
      "image/png": "[encoded data removed]",
      "text/plain": [
       "<Figure size 648x648 with 2 Axes>"
      ]
     },
     "metadata": {
      "needs_background": "light"
     },
     "output_type": "display_data"
    }
   ],
   "source": [
    "logreg = model_maker(LogisticRegression(n_jobs = 4))"
   ]
  },
  {
   "cell_type": "code",
   "execution_count": null,
   "metadata": {},
   "outputs": [],
   "source": []
  },
  {
   "cell_type": "markdown",
   "metadata": {},
   "source": [
    "## Baseline Decision Trees\n",
    "\n",
    "Similar issue as with KNN but this model predicts a Radiant loss almost every single time"
   ]
  },
  {
   "cell_type": "code",
   "execution_count": 29,
   "metadata": {},
   "outputs": [
    {
     "name": "stdout",
     "output_type": "stream",
     "text": [
      "Training Scores\n",
      "Precision Score: 0.25\n",
      "Recall Score: 5.750183287092276e-05\n",
      "Accuracy Score: 0.48757439160921573\n",
      "F1 Score: 0.00011497722013826011\n",
      "\n",
      "Testing Scores\n",
      "Precision Score: 0.5333333333333333\n",
      "Recall Score: 0.0003466955579631636\n",
      "Accuracy Score: 0.4901449531553827\n",
      "F1 Score: 0.0006929406669553919\n"
     ]
    },
    {
     "data": {
      "image/png": "[encoded data removed]",
      "text/plain": [
       "<Figure size 648x648 with 2 Axes>"
      ]
     },
     "metadata": {
      "needs_background": "light"
     },
     "output_type": "display_data"
    },
    {
     "data": {
      "image/png": "[encoded data removed]",
      "text/plain": [
       "<Figure size 648x648 with 2 Axes>"
      ]
     },
     "metadata": {
      "needs_background": "light"
     },
     "output_type": "display_data"
    }
   ],
   "source": [
    "dt = model_maker(DecisionTreeClassifier())"
   ]
  },
  {
   "cell_type": "markdown",
   "metadata": {},
   "source": [
    "## Initial Random Forest \n",
    "This model leans heavily towards predicting a loss but so far has performed the second best out of the 4 baseline models"
   ]
  },
  {
   "cell_type": "code",
   "execution_count": 40,
   "metadata": {},
   "outputs": [
    {
     "name": "stdout",
     "output_type": "stream",
     "text": [
      "Training Scores\n",
      "Precision Score: 0.4793772871053774\n",
      "Recall Score: 0.22241086587436332\n",
      "Accuracy Score: 0.478286488716045\n",
      "F1 Score: 0.3038487242992491\n",
      "\n",
      "Testing Scores\n",
      "Precision Score: 0.47598335854765506\n",
      "Recall Score: 0.21758298755186722\n",
      "Accuracy Score: 0.4775499381297508\n",
      "F1 Score: 0.2986473659231134\n"
     ]
    },
    {
     "data": {
      "image/png": "[encoded data removed]",
      "text/plain": [
       "<Figure size 648x648 with 2 Axes>"
      ]
     },
     "metadata": {
      "needs_background": "light"
     },
     "output_type": "display_data"
    },
    {
     "data": {
      "image/png": "[encoded data removed]",
      "text/plain": [
       "<Figure size 648x648 with 2 Axes>"
      ]
     },
     "metadata": {
      "needs_background": "light"
     },
     "output_type": "display_data"
    }
   ],
   "source": [
    "rf = model_maker(RandomForestClassifier(n_jobs = 4))"
   ]
  },
  {
   "cell_type": "code",
   "execution_count": null,
   "metadata": {},
   "outputs": [],
   "source": []
  }
 ],
 "metadata": {
  "kernelspec": {
   "display_name": "Python 3",
   "language": "python",
   "name": "python3"
  },
  "language_info": {
   "codemirror_mode": {
    "name": "ipython",
    "version": 3
   },
   "file_extension": ".py",
   "mimetype": "text/x-python",
   "name": "python",
   "nbconvert_exporter": "python",
   "pygments_lexer": "ipython3",
   "version": "3.7.1"
  }
 },
 "nbformat": 4,
 "nbformat_minor": 2
}
